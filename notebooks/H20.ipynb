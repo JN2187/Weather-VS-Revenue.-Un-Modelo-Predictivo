{
 "cells": [
  {
   "cell_type": "code",
   "execution_count": 18,
   "metadata": {},
   "outputs": [
    {
     "name": "stdout",
     "output_type": "stream",
     "text": [
      "Checking whether there is an H2O instance running at http://localhost:54321. connected.\n"
     ]
    },
    {
     "data": {
      "text/html": [
       "\n",
       "<style>\n",
       "\n",
       "#h2o-table-2.h2o-container {\n",
       "  overflow-x: auto;\n",
       "}\n",
       "#h2o-table-2 .h2o-table {\n",
       "  /* width: 100%; */\n",
       "  margin-top: 1em;\n",
       "  margin-bottom: 1em;\n",
       "}\n",
       "#h2o-table-2 .h2o-table caption {\n",
       "  white-space: nowrap;\n",
       "  caption-side: top;\n",
       "  text-align: left;\n",
       "  /* margin-left: 1em; */\n",
       "  margin: 0;\n",
       "  font-size: larger;\n",
       "}\n",
       "#h2o-table-2 .h2o-table thead {\n",
       "  white-space: nowrap; \n",
       "  position: sticky;\n",
       "  top: 0;\n",
       "  box-shadow: 0 -1px inset;\n",
       "}\n",
       "#h2o-table-2 .h2o-table tbody {\n",
       "  overflow: auto;\n",
       "}\n",
       "#h2o-table-2 .h2o-table th,\n",
       "#h2o-table-2 .h2o-table td {\n",
       "  text-align: right;\n",
       "  /* border: 1px solid; */\n",
       "}\n",
       "#h2o-table-2 .h2o-table tr:nth-child(even) {\n",
       "  /* background: #F5F5F5 */\n",
       "}\n",
       "\n",
       "</style>      \n",
       "<div id=\"h2o-table-2\" class=\"h2o-container\">\n",
       "  <table class=\"h2o-table\">\n",
       "    <caption></caption>\n",
       "    <thead></thead>\n",
       "    <tbody><tr><td>H2O_cluster_uptime:</td>\n",
       "<td>44 mins 30 secs</td></tr>\n",
       "<tr><td>H2O_cluster_timezone:</td>\n",
       "<td>Europe/Madrid</td></tr>\n",
       "<tr><td>H2O_data_parsing_timezone:</td>\n",
       "<td>UTC</td></tr>\n",
       "<tr><td>H2O_cluster_version:</td>\n",
       "<td>3.40.0.3</td></tr>\n",
       "<tr><td>H2O_cluster_version_age:</td>\n",
       "<td>17 days</td></tr>\n",
       "<tr><td>H2O_cluster_name:</td>\n",
       "<td>H2O_from_python_juano_qk5ryf</td></tr>\n",
       "<tr><td>H2O_cluster_total_nodes:</td>\n",
       "<td>1</td></tr>\n",
       "<tr><td>H2O_cluster_free_memory:</td>\n",
       "<td>3.119 Gb</td></tr>\n",
       "<tr><td>H2O_cluster_total_cores:</td>\n",
       "<td>16</td></tr>\n",
       "<tr><td>H2O_cluster_allowed_cores:</td>\n",
       "<td>16</td></tr>\n",
       "<tr><td>H2O_cluster_status:</td>\n",
       "<td>locked, healthy</td></tr>\n",
       "<tr><td>H2O_connection_url:</td>\n",
       "<td>http://localhost:54321</td></tr>\n",
       "<tr><td>H2O_connection_proxy:</td>\n",
       "<td>{\"http\": null, \"https\": null}</td></tr>\n",
       "<tr><td>H2O_internal_security:</td>\n",
       "<td>False</td></tr>\n",
       "<tr><td>Python_version:</td>\n",
       "<td>3.11.3 final</td></tr></tbody>\n",
       "  </table>\n",
       "</div>\n"
      ],
      "text/plain": [
       "--------------------------  -----------------------------\n",
       "H2O_cluster_uptime:         44 mins 30 secs\n",
       "H2O_cluster_timezone:       Europe/Madrid\n",
       "H2O_data_parsing_timezone:  UTC\n",
       "H2O_cluster_version:        3.40.0.3\n",
       "H2O_cluster_version_age:    17 days\n",
       "H2O_cluster_name:           H2O_from_python_juano_qk5ryf\n",
       "H2O_cluster_total_nodes:    1\n",
       "H2O_cluster_free_memory:    3.119 Gb\n",
       "H2O_cluster_total_cores:    16\n",
       "H2O_cluster_allowed_cores:  16\n",
       "H2O_cluster_status:         locked, healthy\n",
       "H2O_connection_url:         http://localhost:54321\n",
       "H2O_connection_proxy:       {\"http\": null, \"https\": null}\n",
       "H2O_internal_security:      False\n",
       "Python_version:             3.11.3 final\n",
       "--------------------------  -----------------------------"
      ]
     },
     "metadata": {},
     "output_type": "display_data"
    }
   ],
   "source": [
    "# Cargar modelo\n",
    "# ==============================================================================\n",
    "import pandas as pd\n",
    "pd.options.display.max_columns = None\n",
    "pd.options.display.max_rows = None\n",
    "import pickle\n",
    "import h2o\n",
    "from h2o.automl import H2OAutoML\n",
    "# inicializar H2O\n",
    "h2o.init()"
   ]
  },
  {
   "cell_type": "code",
   "execution_count": 19,
   "metadata": {},
   "outputs": [],
   "source": [
    "# Cargamos los df para el modelo\n",
    "# ===============================================================================\n",
    "\n",
    "df = pd.read_csv('../data/merged_df_2022.csv',index_col= 0)\n",
    "df_train=df.iloc[1:].to_csv('../data/df_train.csv')\n",
    "df_test= (df.iloc[:1]).drop('revenue_resold', axis=1).to_csv('../data/df_test.csv')"
   ]
  },
  {
   "cell_type": "code",
   "execution_count": 21,
   "metadata": {},
   "outputs": [
    {
     "name": "stdout",
     "output_type": "stream",
     "text": [
      "Parse progress: |████████████████████████████████████████████████████████████████| (done) 100%\n",
      "AutoML progress: |█\n",
      "20:16:30.155: AutoML: XGBoost is not available; skipping it.\n",
      "\n",
      "██████████████████████████████████████████████████████████████| (done) 100%\n",
      "model_id                                                    rmse      mse       mae      rmsle    mean_residual_deviance\n",
      "DeepLearning_grid_2_AutoML_2_20230421_201630_model_1     48.7322  2374.83  12.7769   nan                         2374.83\n",
      "StackedEnsemble_AllModels_1_AutoML_2_20230421_201630     49.2501  2425.57  10.6475   nan                         2425.57\n",
      "StackedEnsemble_BestOfFamily_1_AutoML_2_20230421_201630  51.596   2662.14  10.8638   nan                         2662.14\n",
      "GBM_grid_1_AutoML_2_20230421_201630_model_2              60.2721  3632.72   6.95351  nan                         3632.72\n",
      "DeepLearning_grid_3_AutoML_2_20230421_201630_model_1     63.4097  4020.79  17.7381     1.95121                   4020.79\n",
      "GBM_5_AutoML_2_20230421_201630                           76.1831  5803.86   9.44455  nan                         5803.86\n",
      "DeepLearning_grid_1_AutoML_2_20230421_201630_model_2     77.3894  5989.11  17.2473   nan                         5989.11\n",
      "GBM_2_AutoML_2_20230421_201630                           80.4916  6478.9    9.49039  nan                         6478.9\n",
      "GBM_grid_1_AutoML_2_20230421_201630_model_5              83.6748  7001.48   6.26444  nan                         7001.48\n",
      "GBM_4_AutoML_2_20230421_201630                           84.3675  7117.88  11.5627   nan                         7117.88\n",
      "[22 rows x 6 columns]\n",
      "\n"
     ]
    }
   ],
   "source": [
    "# Cargar los datos en un H2OFrame\n",
    "# ===============================================================================\n",
    "\n",
    "data = h2o.import_file('../data/df_train.csv')\n",
    "\n",
    "# separar el conjunto de datos en entrenamiento y prueba\n",
    "train, test = data.split_frame(ratios=[0.8])\n",
    "\n",
    "# definir la variable objetivo y las variables predictoras\n",
    "y = 'revenue_resold'\n",
    "x = data.col_names\n",
    "x.remove(y)\n",
    "\n",
    "# ejecutar H2O AutoML\n",
    "aml = H2OAutoML(max_models=20, seed=1)\n",
    "aml.train(x=x, y=y, training_frame=train)\n",
    "\n",
    "# obtener los mejores modelos\n",
    "lb = aml.leaderboard\n",
    "print(lb)"
   ]
  },
  {
   "cell_type": "code",
   "execution_count": 22,
   "metadata": {},
   "outputs": [],
   "source": [
    "# Obtener el mejor modelo del AutoML y guardarlo\n",
    "# ==============================================================================\n",
    "\n",
    "best_model = aml.leader\n",
    "model_path = h2o.save_model(model=best_model, path=\"../data/best_model_3\", force=True)"
   ]
  },
  {
   "cell_type": "code",
   "execution_count": 39,
   "metadata": {},
   "outputs": [],
   "source": [
    "# Cargar el mejor modelo en memoria\n",
    "# ==============================================================================\n",
    "\n",
    "loaded_model = h2o.load_model(model_path)"
   ]
  },
  {
   "cell_type": "code",
   "execution_count": 25,
   "metadata": {},
   "outputs": [
    {
     "name": "stdout",
     "output_type": "stream",
     "text": [
      "Parse progress: |████████████████████████████████████████████████████████████████| (done) 100%\n",
      "deeplearning prediction progress: |██████████████████████████████████████████████| (done) 100%\n"
     ]
    }
   ],
   "source": [
    "# Predecimos \n",
    "# ==============================================================================\n",
    "\n",
    "# Cargar los nuevos datos de entrada como un objeto H2OFrame\n",
    "new_data = h2o.import_file(path = \"../data/df_test.csv\")\n",
    "\n",
    "# Hacer predicciones en los nuevos datos utilizando el modelo cargado\n",
    "predictions = loaded_model.predict(new_data)"
   ]
  },
  {
   "cell_type": "code",
   "execution_count": 26,
   "metadata": {},
   "outputs": [],
   "source": [
    "# Convertir las predicciones a un objeto pandas DataFrame y guardarlo como un archivo CSV\n",
    "# ==============================================================================\n",
    "\n",
    "predictions_df = predictions.as_data_frame()"
   ]
  },
  {
   "cell_type": "code",
   "execution_count": 37,
   "metadata": {},
   "outputs": [
    {
     "name": "stdout",
     "output_type": "stream",
     "text": [
      "16727.99\n"
     ]
    }
   ],
   "source": [
    "# Printeamos el resultado de la predicción\n",
    "# ==============================================================================\n",
    "\n",
    "print(predictions_df['predict'][0].round(2))"
   ]
  },
  {
   "cell_type": "code",
   "execution_count": 31,
   "metadata": {},
   "outputs": [
    {
     "name": "stdout",
     "output_type": "stream",
     "text": [
      "Model Details\n",
      "=============\n",
      "H2ODeepLearningEstimator : Deep Learning\n",
      "Model Key: DeepLearning_grid_2_AutoML_2_20230421_201630_model_1\n",
      "\n",
      "\n",
      "Status of Neuron Layers: predicting revenue_resold, regression, gaussian distribution, Quadratic loss, 19.501 weights/biases, 239,2 KB, 14.303.520 training samples, mini-batch size 1\n",
      "    layer    units    type              dropout    l1    l2    mean_rate               rate_rms                momentum    mean_weight           weight_rms           mean_bias              bias_rms\n",
      "--  -------  -------  ----------------  ---------  ----  ----  ----------------------  ----------------------  ----------  --------------------  -------------------  ---------------------  -----------------------\n",
      "    1        92       Input             15.0\n",
      "    2        100      RectifierDropout  10.0       0.0   0.0   0.189901159426677       0.31386053562164307     0.0         0.043827192973419936  1.1007370948791504   -0.005354712631654974  1.9661340713500977\n",
      "    3        100      RectifierDropout  10.0       0.0   0.0   0.009021202261413237    0.02438085526227951     0.0         0.017336041887886632  0.2620103359222412   1.2263755545761197     0.6020526885986328\n",
      "    4        1        Linear                       0.0   0.0   0.00016601852259555018  0.00029250606894493103  0.0         -0.04581634003159706  0.15324485301971436  0.012655278345112436   1.0971281125650402e-154\n",
      "\n",
      "ModelMetricsRegression: deeplearning\n",
      "** Reported on train data. **\n",
      "\n",
      "MSE: 1254.448212079801\n",
      "RMSE: 35.41819041226981\n",
      "MAE: 21.197215830417907\n",
      "RMSLE: NaN\n",
      "Mean Residual Deviance: 1254.448212079801\n",
      "\n",
      "ModelMetricsRegression: deeplearning\n",
      "** Reported on cross-validation data. **\n",
      "\n",
      "MSE: 2374.8256411853627\n",
      "RMSE: 48.7321828075181\n",
      "MAE: 12.776916980956118\n",
      "RMSLE: NaN\n",
      "Mean Residual Deviance: 2374.8256411853627\n",
      "\n",
      "Cross-Validation Metrics Summary: \n",
      "                        mean      sd         cv_1_valid    cv_2_valid    cv_3_valid    cv_4_valid    cv_5_valid\n",
      "----------------------  --------  ---------  ------------  ------------  ------------  ------------  ------------\n",
      "mae                     12.7773   3.95595    10.1334       12.4354       11.8077       9.92152       19.5887\n",
      "mean_residual_deviance  2374.74   1385.79    2214.6        4701.07       979.446       1979.93       1998.67\n",
      "mse                     2374.74   1385.79    2214.6        4701.07       979.446       1979.93       1998.67\n",
      "r2                      0.943619  0.0236601  0.963668      0.949087      0.965297      0.909445      0.930598\n",
      "residual_deviance       2374.74   1385.79    2214.6        4701.07       979.446       1979.93       1998.67\n",
      "rmse                    47.2246   13.4435    47.0595       68.5644       31.2961       44.4964       44.7064\n",
      "rmsle                   1.72872   0.508444   nan           nan           1.3692        nan           2.08824\n",
      "\n",
      "Scoring History: \n",
      "    timestamp            duration          training_speed    epochs    iterations    samples      training_rmse    training_deviance    training_mae    training_r2\n",
      "--  -------------------  ----------------  ----------------  --------  ------------  -----------  ---------------  -------------------  --------------  -------------\n",
      "    2023-04-21 20:23:27  0.000 sec                           0         0             0            nan              nan                  nan             nan\n",
      "    2023-04-21 20:23:28  2 min 33.523 sec  126195 obs/sec    10        1             92880        151.566          22972.2              22.0748         0.505498\n",
      "    2023-04-21 20:23:33  2 min 38.948 sec  181317 obs/sec    120       12            1.11456e+06  93.9544          8827.44              13.6998         0.80998\n",
      "    2023-04-21 20:23:38  2 min 44.147 sec  196710 obs/sec    240       24            2.22912e+06  78.065           6094.14              25.8531         0.868817\n",
      "    2023-04-21 20:23:43  2 min 49.253 sec  209240 obs/sec    370       37            3.43656e+06  66.716           4451.02              24.3585         0.904187\n",
      "    2023-04-21 20:23:48  2 min 54.332 sec  224754 obs/sec    520       52            4.82976e+06  53.1032          2819.95              23.1746         0.939298\n",
      "    2023-04-21 20:23:54  2 min 59.679 sec  235472 obs/sec    680       68            6.31584e+06  44.2022          1953.83              20.5212         0.957942\n",
      "    2023-04-21 20:23:59  3 min  4.892 sec  243650 obs/sec    840       84            7.80192e+06  37.5399          1409.24              15.8879         0.969664\n",
      "    2023-04-21 20:24:04  3 min  9.916 sec  250837 obs/sec    1000      100           9.288e+06    35.0121          1225.85              11.5243         0.973612\n",
      "    2023-04-21 20:24:09  3 min 15.032 sec  257938 obs/sec    1170      117           1.0867e+07   39.9552          1596.42              25.7117         0.965635\n",
      "    2023-04-21 20:24:14  3 min 20.062 sec  263986 obs/sec    1340      134           1.24459e+07  33.2077          1102.75              18.5477         0.976262\n",
      "    2023-04-21 20:24:19  3 min 25.242 sec  269870 obs/sec    1520      152           1.41178e+07  32.7712          1073.95              21.0657         0.976882\n",
      "    2023-04-21 20:24:20  3 min 25.833 sec  270433 obs/sec    1540      154           1.43035e+07  35.4182          1254.45              21.1972         0.972997\n",
      "\n",
      "Variable Importances: \n",
      "variable                                         relative_importance    scaled_importance    percentage\n",
      "-----------------------------------------------  ---------------------  -------------------  ---------------------\n",
      "transaction_type_name.Open auction - First look  1.0                    1.0                  0.047206042106515876\n",
      "impressions_resold                               0.9743862748146057     0.9743862748146057   0.04599691951690943\n",
      "cpm                                              0.622744083404541      0.622744083404541    0.0293972834227784\n",
      "device_name.Tablet                               0.60817950963974       0.60817950963974     0.028709747540373743\n",
      "transaction_type_name.Preferred deal             0.5249332189559937     0.5249332189559937   0.024780019637145555\n",
      "transaction_type_name.Open auction               0.4392879009246826     0.4392879009246826   0.02073704314793354\n",
      "format_name.Intertitial                          0.40546801686286926    0.40546801686286926  0.019140540276874094\n",
      "format_name.Wide Skyscraper                      0.40322333574295044    0.40322333574295044  0.019034577765411505\n",
      "device_name.Unidentified devices                 0.39995276927948       0.39995276927948     0.018880187267224763\n",
      "format_name.Skin                                 0.3968983590602875     0.3968983590602875   0.01873600064980699\n",
      "---                                              ---                    ---                  ---\n",
      "industria.carrefour.ch                           0.09958573430776596    0.09958573430776596  0.004701048366940703\n",
      "industria.samsung.com.pe                         0.09603823721408844    0.09603823721408844  0.0045335850697638186\n",
      "industria.Amazon Fire TV                         0.09576347470283508    0.09576347470283508  0.004520614619088301\n",
      "sessions                                         0.09539741277694702    0.09539741277694702  0.004503334284401236\n",
      "industria.BP                                     0.0876932144165039     0.0876932144165039   0.004139649572201209\n",
      "industria.missing(NA)                            0.0                    0.0                  0.0\n",
      "brand_id_name.missing(NA)                        0.0                    0.0                  0.0\n",
      "format_name.missing(NA)                          0.0                    0.0                  0.0\n",
      "media_type.missing(NA)                           0.0                    0.0                  0.0\n",
      "transaction_type_name.missing(NA)                0.0                    0.0                  0.0\n",
      "[92 rows x 4 columns]\n",
      "\n"
     ]
    }
   ],
   "source": [
    "# Printeamos la info del mejor modelo\n",
    "# ==============================================================================\n",
    "\n",
    "print(aml.leader)"
   ]
  }
 ],
 "metadata": {
  "kernelspec": {
   "display_name": "VS",
   "language": "python",
   "name": "python3"
  },
  "language_info": {
   "codemirror_mode": {
    "name": "ipython",
    "version": 3
   },
   "file_extension": ".py",
   "mimetype": "text/x-python",
   "name": "python",
   "nbconvert_exporter": "python",
   "pygments_lexer": "ipython3",
   "version": "3.11.3"
  },
  "orig_nbformat": 4
 },
 "nbformat": 4,
 "nbformat_minor": 2
}
