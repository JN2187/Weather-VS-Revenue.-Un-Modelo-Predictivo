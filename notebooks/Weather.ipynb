{
 "cells": [
  {
   "cell_type": "code",
   "execution_count": 33,
   "metadata": {},
   "outputs": [],
   "source": [
    "# Tratamiento de datos\n",
    "# ===============================================================================\n",
    "import pandas as pd\n",
    "import numpy as np\n",
    "import datetime\n",
    "import locale\n",
    "# Set the locale to your country's format\n",
    "locale.setlocale(locale.LC_ALL, 'es_ES')\n",
    "\n",
    "pd.options.display.max_columns = None\n",
    "pd.options.display.max_rows = None\n",
    "\n",
    "# Gráficos\n",
    "# ==============================================================================\n",
    "from sklearn.preprocessing import StandardScaler\n",
    "import matplotlib.pyplot as plt\n",
    "import seaborn as sns\n",
    "import plotly.express as px\n",
    "\n",
    "# Guardar modelo\n",
    "# ==============================================================================\n",
    "import pickle\n",
    "\n",
    "# Configuración warnings\n",
    "# ==============================================================================\n",
    "import warnings\n",
    "warnings.filterwarnings('ignore')"
   ]
  },
  {
   "cell_type": "code",
   "execution_count": 34,
   "metadata": {},
   "outputs": [],
   "source": [
    "# Cargamos el archivo de Weather\n",
    "# ===============================================================================\n",
    "\n",
    "df = pd.read_csv(\"../data/Datosdiarios_1920-2022_combinado.csv\",sep=\";\",dtype={\"fecha\":str})"
   ]
  },
  {
   "cell_type": "code",
   "execution_count": 35,
   "metadata": {},
   "outputs": [
    {
     "data": {
      "text/plain": [
       "0"
      ]
     },
     "execution_count": 35,
     "metadata": {},
     "output_type": "execute_result"
    }
   ],
   "source": [
    "# Comprobamos si hay duplicados\n",
    "# ===============================================================================\n",
    "\n",
    "df.duplicated().sum()"
   ]
  },
  {
   "cell_type": "code",
   "execution_count": 36,
   "metadata": {},
   "outputs": [],
   "source": [
    "# Eliminamos estaciones con deficiencias y Canarias para no desvirtuar el dato\n",
    "# ===============================================================================\n",
    "\n",
    "df = df[df['indicativo'].isin(['0016A', '0076', '0200E', '0324A', '0367', '1014A', '1024E', '1082', '1109', '1208H', '1212E', '1249X', '1351', '1387', '1393', '1400', '1428', '1473A', '1475X', '1484C', '1495', '1505', '1549', '1631E',\n",
    "'1700X', '2030', '2150H', '2235U', '2331', '2374X', '2400E', '2422', '2444', '2462', '2465', '2539', '2614', '2661', '2755X', '2775X', '2867', '2870', '2916A', '2946X', '3013', '3129', '3130C', '3175', '3191E', '3195',\n",
    "'3200', '3260B', '3365A', '3469A', '3526X', '4067', '4121', '4358X', '4410X', '4452', '4642E', '5270B', '5402', '5514', '5530E', '5783', '5796', '5910', '5960', '5973', '6000A', '6001', '6155A', '6325O', '6367B', '7012C', '7031X',\n",
    "'7178I', '7209', '7228', '8019', '8025', '8096', '8175', '8178D', '8293X', '8309X', '8325X', '8368U', '8414A', '8416Y', '8500A', '9019B', '9091R', '9111', '9170', '9201K', '9244X', '9263D', '9294E', '9381I', '9390', '9394X',\n",
    "'9434', '9563X', '9569A', '9573X', '9585', '9619', '9771C', '9898', '9981A', 'B013X', 'B228', 'B248', 'B278', 'B434X', 'B569X', 'B893', 'B954'])]"
   ]
  },
  {
   "cell_type": "code",
   "execution_count": 37,
   "metadata": {},
   "outputs": [],
   "source": [
    "# Filtramos por el año 2022\n",
    "# ===============================================================================\n",
    "\n",
    "df = df[df['year'].isin([2022])]"
   ]
  },
  {
   "cell_type": "code",
   "execution_count": 38,
   "metadata": {},
   "outputs": [
    {
     "data": {
      "text/plain": [
       "indicativo      0.00\n",
       "nombre          0.00\n",
       "provincia       0.00\n",
       "altitud         0.00\n",
       "fecha           0.00\n",
       "year            0.00\n",
       "month           0.00\n",
       "day             0.00\n",
       "diames          0.00\n",
       "tmed            0.50\n",
       "tmax            0.46\n",
       "tmin            0.49\n",
       "horatmax        1.46\n",
       "horatmin        1.54\n",
       "prec            1.25\n",
       "velmedia        5.73\n",
       "dir             5.54\n",
       "racha           5.54\n",
       "horaracha       5.55\n",
       "sol            25.55\n",
       "presMax        20.34\n",
       "horaPresMax    20.34\n",
       "presMin        20.34\n",
       "horaPresMin    20.36\n",
       "dtype: float64"
      ]
     },
     "execution_count": 38,
     "metadata": {},
     "output_type": "execute_result"
    }
   ],
   "source": [
    "# Comprobamos si hay nulos\n",
    "# ===============================================================================\n",
    "\n",
    "(df.isnull().sum() / len(df) * 100).round(2)"
   ]
  },
  {
   "cell_type": "code",
   "execution_count": 39,
   "metadata": {},
   "outputs": [
    {
     "data": {
      "text/plain": [
       "Index(['indicativo', 'nombre', 'provincia', 'altitud', 'fecha', 'year',\n",
       "       'month', 'day', 'diames', 'tmed', 'tmax', 'tmin', 'horatmax',\n",
       "       'horatmin', 'prec', 'velmedia', 'dir', 'racha', 'horaracha', 'sol',\n",
       "       'presMax', 'horaPresMax', 'presMin', 'horaPresMin'],\n",
       "      dtype='object')"
      ]
     },
     "execution_count": 39,
     "metadata": {},
     "output_type": "execute_result"
    }
   ],
   "source": [
    "# Cargamos las columnas\n",
    "# ===============================================================================\n",
    "\n",
    "\n",
    "df.columns.unique()"
   ]
  },
  {
   "cell_type": "code",
   "execution_count": 40,
   "metadata": {},
   "outputs": [
    {
     "data": {
      "text/html": [
       "<div>\n",
       "<style scoped>\n",
       "    .dataframe tbody tr th:only-of-type {\n",
       "        vertical-align: middle;\n",
       "    }\n",
       "\n",
       "    .dataframe tbody tr th {\n",
       "        vertical-align: top;\n",
       "    }\n",
       "\n",
       "    .dataframe thead th {\n",
       "        text-align: right;\n",
       "    }\n",
       "</style>\n",
       "<table border=\"1\" class=\"dataframe\">\n",
       "  <thead>\n",
       "    <tr style=\"text-align: right;\">\n",
       "      <th></th>\n",
       "      <th>count</th>\n",
       "      <th>mean</th>\n",
       "      <th>std</th>\n",
       "      <th>min</th>\n",
       "      <th>25%</th>\n",
       "      <th>50%</th>\n",
       "      <th>75%</th>\n",
       "      <th>max</th>\n",
       "    </tr>\n",
       "  </thead>\n",
       "  <tbody>\n",
       "    <tr>\n",
       "      <th>altitud</th>\n",
       "      <td>38524.0</td>\n",
       "      <td>424.591190</td>\n",
       "      <td>370.692113</td>\n",
       "      <td>2.0</td>\n",
       "      <td>61.0</td>\n",
       "      <td>353.0</td>\n",
       "      <td>690.0</td>\n",
       "      <td>1798.0</td>\n",
       "    </tr>\n",
       "    <tr>\n",
       "      <th>year</th>\n",
       "      <td>38524.0</td>\n",
       "      <td>2022.000000</td>\n",
       "      <td>0.000000</td>\n",
       "      <td>2022.0</td>\n",
       "      <td>2022.0</td>\n",
       "      <td>2022.0</td>\n",
       "      <td>2022.0</td>\n",
       "      <td>2022.0</td>\n",
       "    </tr>\n",
       "    <tr>\n",
       "      <th>month</th>\n",
       "      <td>38524.0</td>\n",
       "      <td>6.522687</td>\n",
       "      <td>3.443972</td>\n",
       "      <td>1.0</td>\n",
       "      <td>4.0</td>\n",
       "      <td>7.0</td>\n",
       "      <td>10.0</td>\n",
       "      <td>12.0</td>\n",
       "    </tr>\n",
       "    <tr>\n",
       "      <th>day</th>\n",
       "      <td>38524.0</td>\n",
       "      <td>15.723860</td>\n",
       "      <td>8.796934</td>\n",
       "      <td>1.0</td>\n",
       "      <td>8.0</td>\n",
       "      <td>16.0</td>\n",
       "      <td>23.0</td>\n",
       "      <td>31.0</td>\n",
       "    </tr>\n",
       "    <tr>\n",
       "      <th>tmed</th>\n",
       "      <td>38333.0</td>\n",
       "      <td>16.590199</td>\n",
       "      <td>7.306435</td>\n",
       "      <td>-6.0</td>\n",
       "      <td>10.9</td>\n",
       "      <td>16.2</td>\n",
       "      <td>22.4</td>\n",
       "      <td>35.7</td>\n",
       "    </tr>\n",
       "    <tr>\n",
       "      <th>tmax</th>\n",
       "      <td>38348.0</td>\n",
       "      <td>22.389650</td>\n",
       "      <td>8.362632</td>\n",
       "      <td>-3.6</td>\n",
       "      <td>15.8</td>\n",
       "      <td>21.6</td>\n",
       "      <td>28.9</td>\n",
       "      <td>45.2</td>\n",
       "    </tr>\n",
       "    <tr>\n",
       "      <th>tmin</th>\n",
       "      <td>38334.0</td>\n",
       "      <td>10.791245</td>\n",
       "      <td>7.040207</td>\n",
       "      <td>-11.5</td>\n",
       "      <td>5.8</td>\n",
       "      <td>10.9</td>\n",
       "      <td>16.1</td>\n",
       "      <td>29.0</td>\n",
       "    </tr>\n",
       "    <tr>\n",
       "      <th>prec</th>\n",
       "      <td>38041.0</td>\n",
       "      <td>1.499740</td>\n",
       "      <td>5.577741</td>\n",
       "      <td>0.0</td>\n",
       "      <td>0.0</td>\n",
       "      <td>0.0</td>\n",
       "      <td>0.1</td>\n",
       "      <td>172.4</td>\n",
       "    </tr>\n",
       "    <tr>\n",
       "      <th>velmedia</th>\n",
       "      <td>36316.0</td>\n",
       "      <td>2.868168</td>\n",
       "      <td>1.737007</td>\n",
       "      <td>0.0</td>\n",
       "      <td>1.7</td>\n",
       "      <td>2.5</td>\n",
       "      <td>3.6</td>\n",
       "      <td>16.7</td>\n",
       "    </tr>\n",
       "    <tr>\n",
       "      <th>dir</th>\n",
       "      <td>36389.0</td>\n",
       "      <td>27.610322</td>\n",
       "      <td>26.434303</td>\n",
       "      <td>0.0</td>\n",
       "      <td>11.0</td>\n",
       "      <td>22.0</td>\n",
       "      <td>30.0</td>\n",
       "      <td>99.0</td>\n",
       "    </tr>\n",
       "    <tr>\n",
       "      <th>racha</th>\n",
       "      <td>36389.0</td>\n",
       "      <td>9.737467</td>\n",
       "      <td>3.784137</td>\n",
       "      <td>0.0</td>\n",
       "      <td>7.2</td>\n",
       "      <td>9.2</td>\n",
       "      <td>11.7</td>\n",
       "      <td>40.3</td>\n",
       "    </tr>\n",
       "    <tr>\n",
       "      <th>sol</th>\n",
       "      <td>28681.0</td>\n",
       "      <td>7.495356</td>\n",
       "      <td>4.248165</td>\n",
       "      <td>0.0</td>\n",
       "      <td>4.0</td>\n",
       "      <td>8.3</td>\n",
       "      <td>11.1</td>\n",
       "      <td>14.9</td>\n",
       "    </tr>\n",
       "    <tr>\n",
       "      <th>presMax</th>\n",
       "      <td>30689.0</td>\n",
       "      <td>974.040282</td>\n",
       "      <td>41.986895</td>\n",
       "      <td>807.9</td>\n",
       "      <td>942.0</td>\n",
       "      <td>982.3</td>\n",
       "      <td>1012.1</td>\n",
       "      <td>1038.2</td>\n",
       "    </tr>\n",
       "    <tr>\n",
       "      <th>presMin</th>\n",
       "      <td>30687.0</td>\n",
       "      <td>969.760459</td>\n",
       "      <td>41.957241</td>\n",
       "      <td>799.4</td>\n",
       "      <td>937.9</td>\n",
       "      <td>977.8</td>\n",
       "      <td>1007.9</td>\n",
       "      <td>1035.3</td>\n",
       "    </tr>\n",
       "  </tbody>\n",
       "</table>\n",
       "</div>"
      ],
      "text/plain": [
       "            count         mean         std     min     25%     50%     75%   \n",
       "altitud   38524.0   424.591190  370.692113     2.0    61.0   353.0   690.0  \\\n",
       "year      38524.0  2022.000000    0.000000  2022.0  2022.0  2022.0  2022.0   \n",
       "month     38524.0     6.522687    3.443972     1.0     4.0     7.0    10.0   \n",
       "day       38524.0    15.723860    8.796934     1.0     8.0    16.0    23.0   \n",
       "tmed      38333.0    16.590199    7.306435    -6.0    10.9    16.2    22.4   \n",
       "tmax      38348.0    22.389650    8.362632    -3.6    15.8    21.6    28.9   \n",
       "tmin      38334.0    10.791245    7.040207   -11.5     5.8    10.9    16.1   \n",
       "prec      38041.0     1.499740    5.577741     0.0     0.0     0.0     0.1   \n",
       "velmedia  36316.0     2.868168    1.737007     0.0     1.7     2.5     3.6   \n",
       "dir       36389.0    27.610322   26.434303     0.0    11.0    22.0    30.0   \n",
       "racha     36389.0     9.737467    3.784137     0.0     7.2     9.2    11.7   \n",
       "sol       28681.0     7.495356    4.248165     0.0     4.0     8.3    11.1   \n",
       "presMax   30689.0   974.040282   41.986895   807.9   942.0   982.3  1012.1   \n",
       "presMin   30687.0   969.760459   41.957241   799.4   937.9   977.8  1007.9   \n",
       "\n",
       "             max  \n",
       "altitud   1798.0  \n",
       "year      2022.0  \n",
       "month       12.0  \n",
       "day         31.0  \n",
       "tmed        35.7  \n",
       "tmax        45.2  \n",
       "tmin        29.0  \n",
       "prec       172.4  \n",
       "velmedia    16.7  \n",
       "dir         99.0  \n",
       "racha       40.3  \n",
       "sol         14.9  \n",
       "presMax   1038.2  \n",
       "presMin   1035.3  "
      ]
     },
     "execution_count": 40,
     "metadata": {},
     "output_type": "execute_result"
    }
   ],
   "source": [
    "# Vemos las variables numéricas\n",
    "# ===============================================================================\n",
    "\n",
    "df.describe().T"
   ]
  },
  {
   "cell_type": "code",
   "execution_count": 41,
   "metadata": {},
   "outputs": [],
   "source": [
    "# Generamos un df con las prec por mes nacional, con la media de cada una de las estaciones\n",
    "# ===============================================================================\n",
    "\n",
    "df_prec_mes = pd.DataFrame()\n",
    "k = 0\n",
    "for mes in range(1,13,1):\n",
    "    df_mes = df[df[\"month\"]== mes]\n",
    "    lista_estaciones_mes= df_mes[\"indicativo\"].drop_duplicates().to_list()\n",
    "    valores_mes = []\n",
    "    for est in lista_estaciones_mes:\n",
    "        df_mes_est = df_mes[df_mes[\"indicativo\"]== est]\n",
    "        preci = df_mes_est[\"prec\"].sum()\n",
    "        valores_mes.append(preci)\n",
    "    df_prec_mes.at[k,\"mes\"]= mes\n",
    "    df_prec_mes.at[k,\"media\"]=np.mean(valores_mes)\n",
    "    k+=1"
   ]
  },
  {
   "cell_type": "code",
   "execution_count": 42,
   "metadata": {},
   "outputs": [],
   "source": [
    "# Generamos un df con las prec diaria, con la media de cada una de las estaciones\n",
    "# ===============================================================================\n",
    "\n",
    "listafechas = df['fecha'].drop_duplicates().tolist()\n",
    "\n",
    "df_diario = pd.DataFrame()\n",
    "i = 0\n",
    "for fecha in listafechas:\n",
    "    df_fecha = df[df['fecha'] == fecha]\n",
    "\n",
    "    df_diario.at[i, 'fecha'] = fecha\n",
    "    df_diario.at[i, 'media'] = df_fecha['prec'].mean()\n",
    "    i += 1"
   ]
  },
  {
   "cell_type": "code",
   "execution_count": 43,
   "metadata": {},
   "outputs": [
    {
     "data": {
      "image/png": "[encoded data removed]",
      "text/plain": [
       "<Figure size 1200x800 with 1 Axes>"
      ]
     },
     "metadata": {},
     "output_type": "display_data"
    }
   ],
   "source": [
    "# Visualizamos las prec diarias en el periodo de 2022\n",
    "# ===============================================================================\n",
    "\n",
    "sns.set(rc={'figure.figsize':(12,8)})\n",
    "ax = sns.lineplot(data=df_diario, y=\"media\", x=\"fecha\")\n",
    "\n",
    "x_min, x_max = ax.get_xlim()\n",
    "\n",
    "# Añade una línea vertical desde 2,5, que es lo que hemso detrminado como lluvia\n",
    "ax.axhline(y=2.5, xmin=0, xmax=1, color='red');"
   ]
  },
  {
   "cell_type": "code",
   "execution_count": 44,
   "metadata": {},
   "outputs": [],
   "source": [
    "# Generamos un df con las prec mensuales, con la media de cada una de las estaciones\n",
    "# ===============================================================================\n",
    "\n",
    "df_prec_mes = pd.DataFrame()\n",
    "z = 0\n",
    "for mes in range(1, 13):\n",
    "    df_mes = df[df[\"month\"] == mes]\n",
    "    lista_estaciones_mes = df_mes[\"indicativo\"].drop_duplicates().to_list()\n",
    "    valores_mes = []\n",
    "    for est in lista_estaciones_mes:\n",
    "        df_mes_est = df_mes[df_mes[\"indicativo\"] == est]\n",
    "        preci = df_mes_est[\"prec\"].sum()\n",
    "        valores_mes.append(preci)\n",
    "    df_prec_mes.at[z, \"mes\"] = mes\n",
    "    df_prec_mes.at[z, \"media\"] = np.mean(valores_mes)\n",
    "    z+= 1\n",
    "    \n",
    "# Guardamos el resultado en un csv para unirlo a nuestro df original\n",
    "df_prec_mes.to_csv('../data/Weather_prec_2022.csv')"
   ]
  },
  {
   "cell_type": "code",
   "execution_count": 45,
   "metadata": {},
   "outputs": [
    {
     "data": {
      "image/png": "[encoded data removed]",
      "text/plain": [
       "<Figure size 1200x800 with 1 Axes>"
      ]
     },
     "metadata": {},
     "output_type": "display_data"
    }
   ],
   "source": [
    "# Visualizamos las prec mensuales en el periodo de 2022\n",
    "# ===============================================================================\n",
    "\n",
    "ax = sns.lineplot(data=df_prec_mes, y=\"media\", x=\"mes\");"
   ]
  },
  {
   "cell_type": "code",
   "execution_count": 46,
   "metadata": {},
   "outputs": [],
   "source": [
    "# Guardamos el resultado de nuestro reporte mensual de prec\n",
    "# ===============================================================================\n",
    "\n",
    "with open('../data/weahter_day_plot.pkl', 'rb') as adata:\n",
    "       report_day = pickle.load(adata)"
   ]
  },
  {
   "cell_type": "code",
   "execution_count": 47,
   "metadata": {},
   "outputs": [],
   "source": [
    "# Renombramos las columnas para poder mergerlas más adelante\n",
    "# ===============================================================================\n",
    "\n",
    "report_day = report_day.rename(columns={'ga:date': 'date'})\n",
    "df_diario = df_diario.rename(columns={'fecha': 'date'})\n",
    "\n",
    "# formateamos de str a datetime \n",
    "report_day['date'] = pd.to_datetime(report_day['date'], format='%Y%m%d')\n",
    "# convertimos el el datetime otra vez a string con el formato deseado\n",
    "report_day['date'] = report_day['date'].dt.strftime('%Y-%m-%d')"
   ]
  },
  {
   "cell_type": "code",
   "execution_count": 48,
   "metadata": {},
   "outputs": [],
   "source": [
    "# Mergeamos los dataframes\n",
    "# ===============================================================================\n",
    "\n",
    "df_merged = pd.merge(report_day, df_diario, on='date', how='inner')\n",
    "df_merged = df_merged[df_merged['ga:channelGrouping'].isin(['Organic Search'])]"
   ]
  },
  {
   "cell_type": "code",
   "execution_count": 68,
   "metadata": {},
   "outputs": [],
   "source": [
    "# Guardamos el df en un csv\n",
    "# ===============================================================================\n",
    "\n",
    "df_merged.to_csv('../data/df_scaled.csv')"
   ]
  },
  {
   "cell_type": "code",
   "execution_count": 67,
   "metadata": {},
   "outputs": [
    {
     "data": {
      "application/vnd.plotly.v1+json": {
       "config": {
        "plotlyServerURL": "https://plot.ly"
       },
       "data": [
        {
         "hovertemplate": "variable=Precipitaciones Medias Diarias<br>date=%{x}<br>value=%{y}<extra></extra>",
         "legendgroup": "Precipitaciones Medias Diarias",
         "line": {
          "color": "#636efa",
          "dash": "solid"
         },
         "marker": {
          "symbol": "circle"
         },
         "mode": "lines",
         "name": "Precipitaciones Medias Diarias",
         "orientation": "v",
         "showlegend": true,
         "type": "scatter",
         "x": [
          "2022-01-01T00:00:00",
          "2022-01-02T00:00:00",
          "2022-01-03T00:00:00",
          "2022-01-04T00:00:00",
          "2022-01-05T00:00:00",
          "2022-01-06T00:00:00",
          "2022-01-07T00:00:00",
          "2022-01-08T00:00:00",
          "2022-01-09T00:00:00",
          "2022-01-10T00:00:00",
          "2022-01-11T00:00:00",
          "2022-01-12T00:00:00",
          "2022-01-13T00:00:00",
          "2022-01-14T00:00:00",
          "2022-01-15T00:00:00",
          "2022-01-16T00:00:00",
          "2022-01-17T00:00:00",
          "2022-01-18T00:00:00",
          "2022-01-19T00:00:00",
          "2022-01-20T00:00:00",
          "2022-01-21T00:00:00",
          "2022-01-22T00:00:00",
          "2022-01-23T00:00:00",
          "2022-01-24T00:00:00",
          "2022-01-25T00:00:00",
          "2022-01-26T00:00:00",
          "2022-01-27T00:00:00",
          "2022-01-28T00:00:00",
          "2022-01-29T00:00:00",
          "2022-01-30T00:00:00",
          "2022-01-31T00:00:00",
          "2022-02-01T00:00:00",
          "2022-02-02T00:00:00",
          "2022-02-03T00:00:00",
          "2022-02-04T00:00:00",
          "2022-02-05T00:00:00",
          "2022-02-06T00:00:00",
          "2022-02-07T00:00:00",
          "2022-02-08T00:00:00",
          "2022-02-09T00:00:00",
          "2022-02-10T00:00:00",
          "2022-02-11T00:00:00",
          "2022-02-12T00:00:00",
          "2022-02-13T00:00:00",
          "2022-02-14T00:00:00",
          "2022-02-15T00:00:00",
          "2022-02-16T00:00:00",
          "2022-02-17T00:00:00",
          "2022-02-18T00:00:00",
          "2022-02-19T00:00:00",
          "2022-02-20T00:00:00",
          "2022-02-21T00:00:00",
          "2022-02-22T00:00:00",
          "2022-02-23T00:00:00",
          "2022-02-24T00:00:00",
          "2022-02-25T00:00:00",
          "2022-02-26T00:00:00",
          "2022-02-27T00:00:00",
          "2022-02-28T00:00:00",
          "2022-03-01T00:00:00",
          "2022-03-02T00:00:00",
          "2022-03-03T00:00:00",
          "2022-03-04T00:00:00",
          "2022-03-05T00:00:00",
          "2022-03-06T00:00:00",
          "2022-03-07T00:00:00",
          "2022-03-08T00:00:00",
          "2022-03-09T00:00:00",
          "2022-03-10T00:00:00",
          "2022-03-11T00:00:00",
          "2022-03-12T00:00:00",
          "2022-03-13T00:00:00",
          "2022-03-14T00:00:00",
          "2022-03-15T00:00:00",
          "2022-03-16T00:00:00",
          "2022-03-17T00:00:00",
          "2022-03-18T00:00:00",
          "2022-03-19T00:00:00",
          "2022-03-20T00:00:00",
          "2022-03-21T00:00:00",
          "2022-03-22T00:00:00",
          "2022-03-23T00:00:00",
          "2022-03-24T00:00:00",
          "2022-03-25T00:00:00",
          "2022-03-26T00:00:00",
          "2022-03-27T00:00:00",
          "2022-03-28T00:00:00",
          "2022-03-29T00:00:00",
          "2022-03-30T00:00:00",
          "2022-03-31T00:00:00",
          "2022-04-01T00:00:00",
          "2022-04-02T00:00:00",
          "2022-04-03T00:00:00",
          "2022-04-04T00:00:00",
          "2022-04-05T00:00:00",
          "2022-04-06T00:00:00",
          "2022-04-07T00:00:00",
          "2022-04-08T00:00:00",
          "2022-04-09T00:00:00",
          "2022-04-10T00:00:00",
          "2022-04-11T00:00:00",
          "2022-04-12T00:00:00",
          "2022-04-13T00:00:00",
          "2022-04-14T00:00:00",
          "2022-04-15T00:00:00",
          "2022-04-16T00:00:00",
          "2022-04-17T00:00:00",
          "2022-04-18T00:00:00",
          "2022-04-19T00:00:00",
          "2022-04-20T00:00:00",
          "2022-04-21T00:00:00",
          "2022-04-22T00:00:00",
          "2022-04-23T00:00:00",
          "2022-04-24T00:00:00",
          "2022-04-25T00:00:00",
          "2022-04-26T00:00:00",
          "2022-04-27T00:00:00",
          "2022-04-28T00:00:00",
          "2022-04-29T00:00:00",
          "2022-04-30T00:00:00",
          "2022-05-01T00:00:00",
          "2022-05-02T00:00:00",
          "2022-05-03T00:00:00",
          "2022-05-04T00:00:00",
          "2022-05-05T00:00:00",
          "2022-05-06T00:00:00",
          "2022-05-07T00:00:00",
          "2022-05-08T00:00:00",
          "2022-05-09T00:00:00",
          "2022-05-10T00:00:00",
          "2022-05-11T00:00:00",
          "2022-05-12T00:00:00",
          "2022-05-13T00:00:00",
          "2022-05-14T00:00:00",
          "2022-05-15T00:00:00",
          "2022-05-16T00:00:00",
          "2022-05-17T00:00:00",
          "2022-05-18T00:00:00",
          "2022-05-19T00:00:00",
          "2022-05-20T00:00:00",
          "2022-05-21T00:00:00",
          "2022-05-22T00:00:00",
          "2022-05-23T00:00:00",
          "2022-05-24T00:00:00",
          "2022-05-25T00:00:00",
          "2022-05-26T00:00:00",
          "2022-05-27T00:00:00",
          "2022-05-28T00:00:00",
          "2022-05-29T00:00:00",
          "2022-05-30T00:00:00",
          "2022-05-31T00:00:00",
          "2022-06-01T00:00:00",
          "2022-06-02T00:00:00",
          "2022-06-03T00:00:00",
          "2022-06-04T00:00:00",
          "2022-06-05T00:00:00",
          "2022-06-06T00:00:00",
          "2022-06-07T00:00:00",
          "2022-06-08T00:00:00",
          "2022-06-09T00:00:00",
          "2022-06-10T00:00:00",
          "2022-06-11T00:00:00",
          "2022-06-12T00:00:00",
          "2022-06-13T00:00:00",
          "2022-06-14T00:00:00",
          "2022-06-15T00:00:00",
          "2022-06-16T00:00:00",
          "2022-06-17T00:00:00",
          "2022-06-18T00:00:00",
          "2022-06-19T00:00:00",
          "2022-06-20T00:00:00",
          "2022-06-21T00:00:00",
          "2022-06-22T00:00:00",
          "2022-06-23T00:00:00",
          "2022-06-24T00:00:00",
          "2022-06-25T00:00:00",
          "2022-06-26T00:00:00",
          "2022-06-27T00:00:00",
          "2022-06-28T00:00:00",
          "2022-06-29T00:00:00",
          "2022-06-30T00:00:00",
          "2022-07-01T00:00:00",
          "2022-07-02T00:00:00",
          "2022-07-03T00:00:00",
          "2022-07-04T00:00:00",
          "2022-07-05T00:00:00",
          "2022-07-06T00:00:00",
          "2022-07-07T00:00:00",
          "2022-07-08T00:00:00",
          "2022-07-09T00:00:00",
          "2022-07-10T00:00:00",
          "2022-07-11T00:00:00",
          "2022-07-12T00:00:00",
          "2022-07-13T00:00:00",
          "2022-07-14T00:00:00",
          "2022-07-15T00:00:00",
          "2022-07-16T00:00:00",
          "2022-07-17T00:00:00",
          "2022-07-18T00:00:00",
          "2022-07-19T00:00:00",
          "2022-07-20T00:00:00",
          "2022-07-21T00:00:00",
          "2022-07-22T00:00:00",
          "2022-07-23T00:00:00",
          "2022-07-24T00:00:00",
          "2022-07-25T00:00:00",
          "2022-07-26T00:00:00",
          "2022-07-27T00:00:00",
          "2022-07-28T00:00:00",
          "2022-07-29T00:00:00",
          "2022-07-30T00:00:00",
          "2022-07-31T00:00:00",
          "2022-08-01T00:00:00",
          "2022-08-02T00:00:00",
          "2022-08-03T00:00:00",
          "2022-08-04T00:00:00",
          "2022-08-05T00:00:00",
          "2022-08-06T00:00:00",
          "2022-08-07T00:00:00",
          "2022-08-08T00:00:00",
          "2022-08-09T00:00:00",
          "2022-08-10T00:00:00",
          "2022-08-11T00:00:00",
          "2022-08-12T00:00:00",
          "2022-08-13T00:00:00",
          "2022-08-14T00:00:00",
          "2022-08-15T00:00:00",
          "2022-08-16T00:00:00",
          "2022-08-17T00:00:00",
          "2022-08-18T00:00:00",
          "2022-08-19T00:00:00",
          "2022-08-20T00:00:00",
          "2022-08-21T00:00:00",
          "2022-08-22T00:00:00",
          "2022-08-23T00:00:00",
          "2022-08-24T00:00:00",
          "2022-08-25T00:00:00",
          "2022-08-26T00:00:00",
          "2022-08-27T00:00:00",
          "2022-08-28T00:00:00",
          "2022-08-29T00:00:00",
          "2022-08-30T00:00:00",
          "2022-08-31T00:00:00",
          "2022-09-01T00:00:00",
          "2022-09-02T00:00:00",
          "2022-09-03T00:00:00",
          "2022-09-04T00:00:00",
          "2022-09-05T00:00:00",
          "2022-09-06T00:00:00",
          "2022-09-07T00:00:00",
          "2022-09-08T00:00:00",
          "2022-09-09T00:00:00",
          "2022-09-10T00:00:00",
          "2022-09-11T00:00:00",
          "2022-09-12T00:00:00",
          "2022-09-13T00:00:00",
          "2022-09-14T00:00:00",
          "2022-09-15T00:00:00",
          "2022-09-16T00:00:00",
          "2022-09-17T00:00:00",
          "2022-09-18T00:00:00",
          "2022-09-19T00:00:00",
          "2022-09-20T00:00:00",
          "2022-09-21T00:00:00",
          "2022-09-22T00:00:00",
          "2022-09-23T00:00:00",
          "2022-09-24T00:00:00",
          "2022-09-25T00:00:00",
          "2022-09-26T00:00:00",
          "2022-09-27T00:00:00",
          "2022-09-28T00:00:00",
          "2022-09-29T00:00:00",
          "2022-09-30T00:00:00",
          "2022-10-01T00:00:00",
          "2022-10-02T00:00:00",
          "2022-10-03T00:00:00",
          "2022-10-04T00:00:00",
          "2022-10-05T00:00:00",
          "2022-10-06T00:00:00",
          "2022-10-07T00:00:00",
          "2022-10-08T00:00:00",
          "2022-10-09T00:00:00",
          "2022-10-10T00:00:00",
          "2022-10-11T00:00:00",
          "2022-10-12T00:00:00",
          "2022-10-13T00:00:00",
          "2022-10-14T00:00:00",
          "2022-10-15T00:00:00",
          "2022-10-16T00:00:00",
          "2022-10-17T00:00:00",
          "2022-10-18T00:00:00",
          "2022-10-19T00:00:00",
          "2022-10-20T00:00:00",
          "2022-10-21T00:00:00",
          "2022-10-22T00:00:00",
          "2022-10-23T00:00:00",
          "2022-10-24T00:00:00",
          "2022-10-25T00:00:00",
          "2022-10-26T00:00:00",
          "2022-10-27T00:00:00",
          "2022-10-28T00:00:00",
          "2022-10-29T00:00:00",
          "2022-10-30T00:00:00",
          "2022-10-31T00:00:00",
          "2022-11-01T00:00:00",
          "2022-11-02T00:00:00",
          "2022-11-03T00:00:00",
          "2022-11-04T00:00:00",
          "2022-11-05T00:00:00",
          "2022-11-06T00:00:00",
          "2022-11-07T00:00:00",
          "2022-11-08T00:00:00",
          "2022-11-09T00:00:00",
          "2022-11-10T00:00:00",
          "2022-11-11T00:00:00",
          "2022-11-12T00:00:00",
          "2022-11-13T00:00:00",
          "2022-11-14T00:00:00",
          "2022-11-15T00:00:00",
          "2022-11-16T00:00:00",
          "2022-11-17T00:00:00",
          "2022-11-18T00:00:00",
          "2022-11-19T00:00:00",
          "2022-11-20T00:00:00",
          "2022-11-21T00:00:00",
          "2022-11-22T00:00:00",
          "2022-11-23T00:00:00",
          "2022-11-24T00:00:00",
          "2022-11-25T00:00:00",
          "2022-11-26T00:00:00",
          "2022-11-27T00:00:00",
          "2022-11-28T00:00:00",
          "2022-11-29T00:00:00",
          "2022-11-30T00:00:00",
          "2022-12-01T00:00:00",
          "2022-12-02T00:00:00",
          "2022-12-03T00:00:00",
          "2022-12-04T00:00:00",
          "2022-12-05T00:00:00",
          "2022-12-06T00:00:00",
          "2022-12-07T00:00:00",
          "2022-12-08T00:00:00",
          "2022-12-09T00:00:00",
          "2022-12-10T00:00:00",
          "2022-12-11T00:00:00",
          "2022-12-12T00:00:00",
          "2022-12-13T00:00:00",
          "2022-12-14T00:00:00",
          "2022-12-15T00:00:00",
          "2022-12-16T00:00:00",
          "2022-12-17T00:00:00",
          "2022-12-18T00:00:00",
          "2022-12-19T00:00:00",
          "2022-12-20T00:00:00",
          "2022-12-21T00:00:00",
          "2022-12-22T00:00:00",
          "2022-12-23T00:00:00",
          "2022-12-24T00:00:00",
          "2022-12-25T00:00:00",
          "2022-12-26T00:00:00",
          "2022-12-27T00:00:00",
          "2022-12-28T00:00:00",
          "2022-12-29T00:00:00",
          "2022-12-30T00:00:00",
          "2022-12-31T00:00:00"
         ],
         "xaxis": "x",
         "y": [
          -0.5928123625981944,
          -0.732104938512127,
          -0.1905165162298196,
          1.7982981608870752,
          0.7078317839396848,
          -0.5488997878185479,
          -0.5736149451138819,
          -0.06586146524243588,
          0.9370450813378789,
          -0.3685277064655911,
          -0.6409745413887744,
          -0.6532511751981379,
          -0.7259666216074452,
          -0.7368267207464976,
          -0.7372943147153381,
          -0.722991440374332,
          -0.7377710771933716,
          -0.7377710771933716,
          -0.7335214731824381,
          -0.6292690183829966,
          -0.6129001733038453,
          -0.6339458312627542,
          -0.5043981144934703,
          -0.2981506664961627,
          -0.7018855322121551,
          -0.6549914892216632,
          -0.7359003520414686,
          -0.7368357146174201,
          -0.7377710771933716,
          -0.7251436824180262,
          -0.581097845721494,
          -0.7311605820652528,
          -0.7377710771933716,
          -0.6664721654543757,
          -0.4879887969951672,
          -0.6867938168040144,
          -0.734964989465517,
          -0.6863261355160386,
          -0.7377710771933716,
          -0.7377710771933716,
          -0.35389018153904217,
          -0.6575007792090715,
          -0.6716661259121833,
          0.6655426028615696,
          0.007326159390308405,
          -0.6082233604240878,
          -0.6358165564146573,
          -0.6634097524052267,
          -0.3982344621229741,
          -0.5511662432910457,
          -0.6638774336932025,
          -0.725611363706002,
          -0.7377710771933716,
          -0.7311605820652528,
          -0.39024790474369586,
          -0.45856534827184636,
          -0.5025273893415673,
          -0.6582652582374934,
          -0.7359003520414686,
          0.09184606138554209,
          0.607362839016893,
          4.666780868267212,
          -0.2618154279688156,
          -0.0693500829903544,
          0.4088426824772821,
          0.6060481467084998,
          -0.09230344575491124,
          0.27316249918537283,
          0.5404153736507487,
          3.0070744128859475,
          2.5320631201082664,
          0.7921597148162449,
          1.3461577142912133,
          0.1310368539308179,
          0.9837907254581472,
          0.7916829523382115,
          -0.4647965136675234,
          -0.2558530205983555,
          1.2636778055914117,
          3.1459360688678113,
          0.7773099658680825,
          2.648241447751089,
          1.1381930045220658,
          0.910130922601966,
          0.3864852728102672,
          -0.7254944433840081,
          -0.5665997257942457,
          0.6152308889204854,
          1.650209579210829,
          0.45329403691506903,
          -0.30137149046052397,
          -0.434329750961933,
          -0.35661082749313194,
          0.3682951688692871,
          2.1961127686443396,
          -0.6692072355410771,
          -0.45332378817641994,
          0.0326456029942352,
          -0.6905352671078204,
          -0.5609875503385365,
          1.2166690252573054,
          1.6202691526051365,
          1.1339434005111322,
          -0.7104381943725245,
          -0.7368445387926649,
          -0.7377710771933716,
          -0.7349914619912515,
          0.018747526983635014,
          2.4842662112641176,
          3.037352279346916,
          1.0555439973744132,
          3.289891350678579,
          0.8526320876196496,
          -0.6858849267537974,
          -0.7373078079930183,
          0.24852905035889253,
          0.9645888110383738,
          0.14801728223270694,
          -0.6736987407406934,
          -0.5848392960253,
          -0.2789757336891567,
          1.9616853170026818,
          2.0687843319491286,
          0.5647213098191038,
          -0.7073717934749476,
          -0.7377710771933716,
          -0.7377710771933716,
          -0.7298204952977839,
          -0.6947443986996023,
          -0.7377710771933716,
          -0.6395580067184633,
          -0.5609875503385365,
          -0.7064364308989961,
          0.04886884918184686,
          -0.36549677196467123,
          -0.5628582754904395,
          -0.5825008895854211,
          -0.7176607818104143,
          -0.7377710771933716,
          -0.7377710771933716,
          -0.5020597080535916,
          -0.21443571594850272,
          -0.5301205853321368,
          1.7543855861074282,
          -0.6499459276340785,
          -0.6815818686043615,
          -0.7354326707534928,
          -0.7359180003919583,
          -0.504865795781446,
          -0.6641112743371904,
          -0.26748156665006034,
          -0.26370414086256383,
          -0.46315588984605505,
          -0.06633364346587306,
          -0.3279203792500039,
          -0.7316327602886898,
          -0.6664721654543757,
          -0.5828966199060162,
          -0.5623224852770304,
          -0.7368175522373045,
          -0.7310964025009021,
          -0.3312256268140634,
          -0.7108106264747693,
          -0.7354101860761864,
          -0.6513624623043898,
          -0.46287076718762316,
          -0.39879295531152764,
          -0.6235039471216033,
          -0.33358651793124866,
          -0.4837391929842336,
          -0.43350313336914564,
          0.89029943721761,
          -0.06538928701899883,
          -0.1938217637938791,
          -0.20798711049699087,
          -0.4228282021608529,
          -0.5564546393935408,
          -0.04602997985807935,
          -0.6801653339340503,
          -0.5739252336607119,
          -0.6886645419559174,
          -0.7359003520414686,
          -0.7198283047027634,
          -0.14849265434392134,
          -0.6967695040824875,
          -0.19665483313450147,
          0.7283423065786981,
          -0.7368267207464976,
          -0.7377710771933716,
          -0.7377710771933716,
          -0.7377710771933716,
          -0.7344658296293123,
          -0.6990524628715328,
          -0.7377710771933716,
          -0.6046168181841207,
          -0.7372988989699346,
          -0.732104938512127,
          -0.7264387998308822,
          -0.6881923637324804,
          -0.7136899877980816,
          -0.6726104823590574,
          -0.661278204996568,
          -0.7278553345011934,
          -0.7377710771933716,
          -0.7377710771933716,
          -0.7139329532916948,
          -0.7148864782477619,
          -0.6943306806371622,
          -0.598006323056002,
          -0.6499459276340785,
          -0.6775914996964915,
          -0.7320499274569692,
          -0.7377710771933716,
          -0.5918680061513202,
          -0.45950071084779787,
          -0.5492955181391427,
          -0.5540937482763555,
          -0.6952120799875781,
          -0.556310737458779,
          -0.6107551350888026,
          -0.5748695901075861,
          -0.5750179889778092,
          -0.6858584542280629,
          -0.554440012306876,
          -0.503098500145153,
          -0.7221891958199487,
          -0.4510824476642343,
          -0.047941177429134216,
          1.3943879146880918,
          0.08160653934014954,
          -0.7368357146174201,
          -0.7340296268895656,
          -0.6690219278609358,
          -0.6707217694653091,
          -0.7288851327218323,
          0.005842170688077543,
          -0.2719605143695204,
          -0.20461440890101187,
          -0.34258038885385933,
          -0.23828746163526615,
          -0.0715276039236807,
          -0.43463265774677945,
          -0.17795657548639388,
          -0.7012919367312628,
          -0.4758695559269493,
          -0.3075042922556777,
          -0.24343195580299945,
          -0.12978540282489112,
          -0.4828847752465856,
          -0.609626404288015,
          -0.5567784187467548,
          -0.7106455624907778,
          -0.7155787006918298,
          -0.708496027340274,
          0.7956045574271343,
          2.869890594086394,
          0.20097424205466036,
          -0.016906210406665376,
          -0.5537407606724268,
          -0.304311468078151,
          -0.48610008410141886,
          -0.12043177706537608,
          -0.5736149451138819,
          -0.5301205853321368,
          -0.7195315069623173,
          0.7087671465156362,
          0.8397179071488471,
          1.8218486118979311,
          -0.26260688861000536,
          -0.5090749273732278,
          0.36995903498997007,
          1.9149261820760288,
          -0.6281157072456584,
          -0.7377710771933716,
          -0.7372943147153381,
          -0.6934321667362527,
          -0.7315731649789358,
          -0.19996008069856075,
          0.8503247371363365,
          0.6565712166162649,
          -0.5246582495123812,
          -0.2027931500391831,
          1.4148115111280426,
          0.3590989358509176,
          -0.6133678545918211,
          -0.7045657057470931,
          -0.7036303431711416,
          -0.40057286856285285,
          0.7602120881929691,
          -0.4202154826578345,
          0.2452949901316638,
          1.3756986509109066,
          1.5088529099201577,
          0.7779210200395896,
          1.7943144436427374,
          0.3554452849375261,
          -0.6128593079485852,
          -0.1905165162298196,
          -0.3954283743951195,
          -0.054529187879946504,
          0.23161081552291155,
          0.27008209839437863,
          0.0748476453418078,
          0.28968873700567,
          -0.7143870127945839,
          -0.5555102829466666,
          0.2131958648088663,
          -0.4280221626186606,
          -0.4114959247983635,
          -0.7283275127246305,
          -0.30201017227071986,
          0.3482388367118654,
          0.7079830925916769,
          0.3748289515689486,
          2.2391338356480266,
          0.489892303742983,
          0.28917530049086443,
          0.3724217684690734,
          1.0472276405641867,
          0.4763295463916864,
          0.8158661614620839,
          1.6937039389925739,
          0.7439241879521212,
          1.1622740939173557,
          3.1139929828395636,
          2.254866997423133,
          0.10419145901385266,
          1.5697683976789993,
          -0.19759918958137548,
          -0.7284174514338566,
          1.1240276578189543,
          0.49877824821452243,
          -0.34819256430956835,
          0.025268931880916605,
          0.2553251645504836,
          0.05178497956569559,
          0.35316430367007157,
          -0.1189333807058422,
          1.4152134873350122,
          -0.5732880222718018,
          0.905152422110193,
          3.3518974593782995,
          2.4098148027840325,
          1.7804883317797644,
          1.783825669125999,
          4.7836151809130065,
          4.581316609825105,
          2.8479595200968513,
          0.7340084452599429,
          -0.12818899073612774,
          -0.6046168181841207,
          -0.4563528560248842,
          2.6482189630737825,
          1.288345679575051,
          -0.29203483426878735,
          -0.402607055135796,
          0.22986150762846386,
          1.307232808512533,
          0.3557936882868583,
          -0.6749713734762427,
          -0.7118012749043333,
          0.2084740825744957,
          1.5564099671040028,
          -0.46013028181238064,
          0.7070942865240307
         ],
         "yaxis": "y"
        },
        {
         "hovertemplate": "variable=Audiencia Diaria<br>date=%{x}<br>value=%{y}<extra></extra>",
         "legendgroup": "Audiencia Diaria",
         "line": {
          "color": "#EF553B",
          "dash": "solid"
         },
         "marker": {
          "symbol": "circle"
         },
         "mode": "lines",
         "name": "Audiencia Diaria",
         "orientation": "v",
         "showlegend": true,
         "type": "scatter",
         "x": [
          "2022-01-01T00:00:00",
          "2022-01-02T00:00:00",
          "2022-01-03T00:00:00",
          "2022-01-04T00:00:00",
          "2022-01-05T00:00:00",
          "2022-01-06T00:00:00",
          "2022-01-07T00:00:00",
          "2022-01-08T00:00:00",
          "2022-01-09T00:00:00",
          "2022-01-10T00:00:00",
          "2022-01-11T00:00:00",
          "2022-01-12T00:00:00",
          "2022-01-13T00:00:00",
          "2022-01-14T00:00:00",
          "2022-01-15T00:00:00",
          "2022-01-16T00:00:00",
          "2022-01-17T00:00:00",
          "2022-01-18T00:00:00",
          "2022-01-19T00:00:00",
          "2022-01-20T00:00:00",
          "2022-01-21T00:00:00",
          "2022-01-22T00:00:00",
          "2022-01-23T00:00:00",
          "2022-01-24T00:00:00",
          "2022-01-25T00:00:00",
          "2022-01-26T00:00:00",
          "2022-01-27T00:00:00",
          "2022-01-28T00:00:00",
          "2022-01-29T00:00:00",
          "2022-01-30T00:00:00",
          "2022-01-31T00:00:00",
          "2022-02-01T00:00:00",
          "2022-02-02T00:00:00",
          "2022-02-03T00:00:00",
          "2022-02-04T00:00:00",
          "2022-02-05T00:00:00",
          "2022-02-06T00:00:00",
          "2022-02-07T00:00:00",
          "2022-02-08T00:00:00",
          "2022-02-09T00:00:00",
          "2022-02-10T00:00:00",
          "2022-02-11T00:00:00",
          "2022-02-12T00:00:00",
          "2022-02-13T00:00:00",
          "2022-02-14T00:00:00",
          "2022-02-15T00:00:00",
          "2022-02-16T00:00:00",
          "2022-02-17T00:00:00",
          "2022-02-18T00:00:00",
          "2022-02-19T00:00:00",
          "2022-02-20T00:00:00",
          "2022-02-21T00:00:00",
          "2022-02-22T00:00:00",
          "2022-02-23T00:00:00",
          "2022-02-24T00:00:00",
          "2022-02-25T00:00:00",
          "2022-02-26T00:00:00",
          "2022-02-27T00:00:00",
          "2022-02-28T00:00:00",
          "2022-03-01T00:00:00",
          "2022-03-02T00:00:00",
          "2022-03-03T00:00:00",
          "2022-03-04T00:00:00",
          "2022-03-05T00:00:00",
          "2022-03-06T00:00:00",
          "2022-03-07T00:00:00",
          "2022-03-08T00:00:00",
          "2022-03-09T00:00:00",
          "2022-03-10T00:00:00",
          "2022-03-11T00:00:00",
          "2022-03-12T00:00:00",
          "2022-03-13T00:00:00",
          "2022-03-14T00:00:00",
          "2022-03-15T00:00:00",
          "2022-03-16T00:00:00",
          "2022-03-17T00:00:00",
          "2022-03-18T00:00:00",
          "2022-03-19T00:00:00",
          "2022-03-20T00:00:00",
          "2022-03-21T00:00:00",
          "2022-03-22T00:00:00",
          "2022-03-23T00:00:00",
          "2022-03-24T00:00:00",
          "2022-03-25T00:00:00",
          "2022-03-26T00:00:00",
          "2022-03-27T00:00:00",
          "2022-03-28T00:00:00",
          "2022-03-29T00:00:00",
          "2022-03-30T00:00:00",
          "2022-03-31T00:00:00",
          "2022-04-01T00:00:00",
          "2022-04-02T00:00:00",
          "2022-04-03T00:00:00",
          "2022-04-04T00:00:00",
          "2022-04-05T00:00:00",
          "2022-04-06T00:00:00",
          "2022-04-07T00:00:00",
          "2022-04-08T00:00:00",
          "2022-04-09T00:00:00",
          "2022-04-10T00:00:00",
          "2022-04-11T00:00:00",
          "2022-04-12T00:00:00",
          "2022-04-13T00:00:00",
          "2022-04-14T00:00:00",
          "2022-04-15T00:00:00",
          "2022-04-16T00:00:00",
          "2022-04-17T00:00:00",
          "2022-04-18T00:00:00",
          "2022-04-19T00:00:00",
          "2022-04-20T00:00:00",
          "2022-04-21T00:00:00",
          "2022-04-22T00:00:00",
          "2022-04-23T00:00:00",
          "2022-04-24T00:00:00",
          "2022-04-25T00:00:00",
          "2022-04-26T00:00:00",
          "2022-04-27T00:00:00",
          "2022-04-28T00:00:00",
          "2022-04-29T00:00:00",
          "2022-04-30T00:00:00",
          "2022-05-01T00:00:00",
          "2022-05-02T00:00:00",
          "2022-05-03T00:00:00",
          "2022-05-04T00:00:00",
          "2022-05-05T00:00:00",
          "2022-05-06T00:00:00",
          "2022-05-07T00:00:00",
          "2022-05-08T00:00:00",
          "2022-05-09T00:00:00",
          "2022-05-10T00:00:00",
          "2022-05-11T00:00:00",
          "2022-05-12T00:00:00",
          "2022-05-13T00:00:00",
          "2022-05-14T00:00:00",
          "2022-05-15T00:00:00",
          "2022-05-16T00:00:00",
          "2022-05-17T00:00:00",
          "2022-05-18T00:00:00",
          "2022-05-19T00:00:00",
          "2022-05-20T00:00:00",
          "2022-05-21T00:00:00",
          "2022-05-22T00:00:00",
          "2022-05-23T00:00:00",
          "2022-05-24T00:00:00",
          "2022-05-25T00:00:00",
          "2022-05-26T00:00:00",
          "2022-05-27T00:00:00",
          "2022-05-28T00:00:00",
          "2022-05-29T00:00:00",
          "2022-05-30T00:00:00",
          "2022-05-31T00:00:00",
          "2022-06-01T00:00:00",
          "2022-06-02T00:00:00",
          "2022-06-03T00:00:00",
          "2022-06-04T00:00:00",
          "2022-06-05T00:00:00",
          "2022-06-06T00:00:00",
          "2022-06-07T00:00:00",
          "2022-06-08T00:00:00",
          "2022-06-09T00:00:00",
          "2022-06-10T00:00:00",
          "2022-06-11T00:00:00",
          "2022-06-12T00:00:00",
          "2022-06-13T00:00:00",
          "2022-06-14T00:00:00",
          "2022-06-15T00:00:00",
          "2022-06-16T00:00:00",
          "2022-06-17T00:00:00",
          "2022-06-18T00:00:00",
          "2022-06-19T00:00:00",
          "2022-06-20T00:00:00",
          "2022-06-21T00:00:00",
          "2022-06-22T00:00:00",
          "2022-06-23T00:00:00",
          "2022-06-24T00:00:00",
          "2022-06-25T00:00:00",
          "2022-06-26T00:00:00",
          "2022-06-27T00:00:00",
          "2022-06-28T00:00:00",
          "2022-06-29T00:00:00",
          "2022-06-30T00:00:00",
          "2022-07-01T00:00:00",
          "2022-07-02T00:00:00",
          "2022-07-03T00:00:00",
          "2022-07-04T00:00:00",
          "2022-07-05T00:00:00",
          "2022-07-06T00:00:00",
          "2022-07-07T00:00:00",
          "2022-07-08T00:00:00",
          "2022-07-09T00:00:00",
          "2022-07-10T00:00:00",
          "2022-07-11T00:00:00",
          "2022-07-12T00:00:00",
          "2022-07-13T00:00:00",
          "2022-07-14T00:00:00",
          "2022-07-15T00:00:00",
          "2022-07-16T00:00:00",
          "2022-07-17T00:00:00",
          "2022-07-18T00:00:00",
          "2022-07-19T00:00:00",
          "2022-07-20T00:00:00",
          "2022-07-21T00:00:00",
          "2022-07-22T00:00:00",
          "2022-07-23T00:00:00",
          "2022-07-24T00:00:00",
          "2022-07-25T00:00:00",
          "2022-07-26T00:00:00",
          "2022-07-27T00:00:00",
          "2022-07-28T00:00:00",
          "2022-07-29T00:00:00",
          "2022-07-30T00:00:00",
          "2022-07-31T00:00:00",
          "2022-08-01T00:00:00",
          "2022-08-02T00:00:00",
          "2022-08-03T00:00:00",
          "2022-08-04T00:00:00",
          "2022-08-05T00:00:00",
          "2022-08-06T00:00:00",
          "2022-08-07T00:00:00",
          "2022-08-08T00:00:00",
          "2022-08-09T00:00:00",
          "2022-08-10T00:00:00",
          "2022-08-11T00:00:00",
          "2022-08-12T00:00:00",
          "2022-08-13T00:00:00",
          "2022-08-14T00:00:00",
          "2022-08-15T00:00:00",
          "2022-08-16T00:00:00",
          "2022-08-17T00:00:00",
          "2022-08-18T00:00:00",
          "2022-08-19T00:00:00",
          "2022-08-20T00:00:00",
          "2022-08-21T00:00:00",
          "2022-08-22T00:00:00",
          "2022-08-23T00:00:00",
          "2022-08-24T00:00:00",
          "2022-08-25T00:00:00",
          "2022-08-26T00:00:00",
          "2022-08-27T00:00:00",
          "2022-08-28T00:00:00",
          "2022-08-29T00:00:00",
          "2022-08-30T00:00:00",
          "2022-08-31T00:00:00",
          "2022-09-01T00:00:00",
          "2022-09-02T00:00:00",
          "2022-09-03T00:00:00",
          "2022-09-04T00:00:00",
          "2022-09-05T00:00:00",
          "2022-09-06T00:00:00",
          "2022-09-07T00:00:00",
          "2022-09-08T00:00:00",
          "2022-09-09T00:00:00",
          "2022-09-10T00:00:00",
          "2022-09-11T00:00:00",
          "2022-09-12T00:00:00",
          "2022-09-13T00:00:00",
          "2022-09-14T00:00:00",
          "2022-09-15T00:00:00",
          "2022-09-16T00:00:00",
          "2022-09-17T00:00:00",
          "2022-09-18T00:00:00",
          "2022-09-19T00:00:00",
          "2022-09-20T00:00:00",
          "2022-09-21T00:00:00",
          "2022-09-22T00:00:00",
          "2022-09-23T00:00:00",
          "2022-09-24T00:00:00",
          "2022-09-25T00:00:00",
          "2022-09-26T00:00:00",
          "2022-09-27T00:00:00",
          "2022-09-28T00:00:00",
          "2022-09-29T00:00:00",
          "2022-09-30T00:00:00",
          "2022-10-01T00:00:00",
          "2022-10-02T00:00:00",
          "2022-10-03T00:00:00",
          "2022-10-04T00:00:00",
          "2022-10-05T00:00:00",
          "2022-10-06T00:00:00",
          "2022-10-07T00:00:00",
          "2022-10-08T00:00:00",
          "2022-10-09T00:00:00",
          "2022-10-10T00:00:00",
          "2022-10-11T00:00:00",
          "2022-10-12T00:00:00",
          "2022-10-13T00:00:00",
          "2022-10-14T00:00:00",
          "2022-10-15T00:00:00",
          "2022-10-16T00:00:00",
          "2022-10-17T00:00:00",
          "2022-10-18T00:00:00",
          "2022-10-19T00:00:00",
          "2022-10-20T00:00:00",
          "2022-10-21T00:00:00",
          "2022-10-22T00:00:00",
          "2022-10-23T00:00:00",
          "2022-10-24T00:00:00",
          "2022-10-25T00:00:00",
          "2022-10-26T00:00:00",
          "2022-10-27T00:00:00",
          "2022-10-28T00:00:00",
          "2022-10-29T00:00:00",
          "2022-10-30T00:00:00",
          "2022-10-31T00:00:00",
          "2022-11-01T00:00:00",
          "2022-11-02T00:00:00",
          "2022-11-03T00:00:00",
          "2022-11-04T00:00:00",
          "2022-11-05T00:00:00",
          "2022-11-06T00:00:00",
          "2022-11-07T00:00:00",
          "2022-11-08T00:00:00",
          "2022-11-09T00:00:00",
          "2022-11-10T00:00:00",
          "2022-11-11T00:00:00",
          "2022-11-12T00:00:00",
          "2022-11-13T00:00:00",
          "2022-11-14T00:00:00",
          "2022-11-15T00:00:00",
          "2022-11-16T00:00:00",
          "2022-11-17T00:00:00",
          "2022-11-18T00:00:00",
          "2022-11-19T00:00:00",
          "2022-11-20T00:00:00",
          "2022-11-21T00:00:00",
          "2022-11-22T00:00:00",
          "2022-11-23T00:00:00",
          "2022-11-24T00:00:00",
          "2022-11-25T00:00:00",
          "2022-11-26T00:00:00",
          "2022-11-27T00:00:00",
          "2022-11-28T00:00:00",
          "2022-11-29T00:00:00",
          "2022-11-30T00:00:00",
          "2022-12-01T00:00:00",
          "2022-12-02T00:00:00",
          "2022-12-03T00:00:00",
          "2022-12-04T00:00:00",
          "2022-12-05T00:00:00",
          "2022-12-06T00:00:00",
          "2022-12-07T00:00:00",
          "2022-12-08T00:00:00",
          "2022-12-09T00:00:00",
          "2022-12-10T00:00:00",
          "2022-12-11T00:00:00",
          "2022-12-12T00:00:00",
          "2022-12-13T00:00:00",
          "2022-12-14T00:00:00",
          "2022-12-15T00:00:00",
          "2022-12-16T00:00:00",
          "2022-12-17T00:00:00",
          "2022-12-18T00:00:00",
          "2022-12-19T00:00:00",
          "2022-12-20T00:00:00",
          "2022-12-21T00:00:00",
          "2022-12-22T00:00:00",
          "2022-12-23T00:00:00",
          "2022-12-24T00:00:00",
          "2022-12-25T00:00:00",
          "2022-12-26T00:00:00",
          "2022-12-27T00:00:00",
          "2022-12-28T00:00:00",
          "2022-12-29T00:00:00",
          "2022-12-30T00:00:00",
          "2022-12-31T00:00:00"
         ],
         "xaxis": "x",
         "y": [
          -1.29285187393128,
          -1.0458946595796001,
          -0.5371737923398603,
          0.6670211318196575,
          0.1963787716871937,
          -0.989244718654227,
          -0.9739940196495628,
          -1.1125382173016154,
          -0.8995220539788537,
          -0.7983922164713907,
          -0.943761870408891,
          -1.1030651481243765,
          -1.0861854940693392,
          -1.148485171657026,
          -1.3935509134088921,
          -1.2252479956010558,
          -1.06011996952363,
          -1.1826393779611304,
          -1.119343479929414,
          -1.053366312909824,
          -0.9604395878874359,
          -1.1826259155226977,
          -0.8712733706672864,
          -0.6120025126290395,
          -0.8558117601271744,
          -0.8949246312540402,
          -1.1503362569415407,
          -1.3401790762419143,
          -1.3557932610842651,
          -1.2481363846766156,
          -1.0883978214518018,
          -1.1198909524256826,
          -1.08111015478016,
          -0.8727721888128088,
          -0.3017179878893,
          -0.8648630062335178,
          -1.0745135599480704,
          -0.9663383796607568,
          -0.930452006278294,
          -0.832665340981652,
          -0.7260473160730696,
          -0.6651208072055322,
          -0.6786662640087039,
          -0.3251022434471359,
          -0.4632425679462034,
          -0.9937097607344508,
          -0.9027485517232566,
          -0.7265207451579577,
          0.22898255383178334,
          -0.1917388408519863,
          -0.7552024702391145,
          -0.6601015614098232,
          -0.44704725451150185,
          0.40392694126648526,
          1.0858757350407406,
          1.1159642849381286,
          0.2745910515024924,
          -0.3349926482157926,
          -0.23233258020646402,
          0.21444985154353705,
          1.1178871698942854,
          2.16298075291481,
          1.1923344544278678,
          0.27337045708458196,
          0.6013760382814111,
          1.544125920595779,
          1.1894422739045467,
          0.8314423798793594,
          1.5610930805006298,
          2.2356689454931686,
          1.1690152673224572,
          1.5515369929530551,
          2.830513518867237,
          2.3910793347618258,
          2.184549823023952,
          1.6923989737552942,
          0.8603215540575311,
          0.387554372392418,
          1.4433236690901816,
          2.338234776433467,
          2.170896666713318,
          2.2037764288457806,
          2.19733240831593,
          1.8237519855444737,
          0.6122649072338365,
          0.5661246432450304,
          1.646839838358839,
          1.946987146958653,
          2.0648081643830936,
          1.9447882820146232,
          0.960652620217979,
          0.20287664197077582,
          1.1921975863038006,
          2.326313787201191,
          2.5272361933317886,
          1.4714467029763758,
          0.9371494464539865,
          0.8507721977291729,
          0.33176154004726865,
          1.0050539859092105,
          2.7390474684148116,
          3.0191222813112675,
          1.310655825814062,
          -0.19547242377735946,
          -0.6226423264704575,
          -0.56547408166542,
          0.21332798167413405,
          1.5105730365416745,
          2.1767012214176087,
          2.758042969043543,
          2.1969375101219,
          2.7728404326209684,
          1.8379907579269363,
          0.46343316287935854,
          1.0518426906825316,
          1.8088580411582795,
          1.907786769981974,
          1.5235149273551072,
          0.09015788871238004,
          -0.2447920669760536,
          0.26477020266573864,
          1.8187551771461528,
          1.946928809725444,
          1.0573263906041734,
          -0.4448551207866884,
          -0.9642763828407941,
          -1.2903097168072128,
          -0.9604059317913538,
          -0.6502717376141143,
          -0.7523618957297862,
          -0.5321006967904199,
          -0.4074272982036659,
          -0.38920588778482257,
          -0.2489990789863148,
          -0.629921018183144,
          -0.7095737789107561,
          -0.7256232492624353,
          -0.7137583535236294,
          -0.7074826134741891,
          -0.47486289605347953,
          -0.43177411810944955,
          -0.2539196002335163,
          -0.27125248971579247,
          0.10096373929446961,
          -0.3600305399611285,
          -0.8571602477101968,
          -1.0067593510553465,
          -1.3056322154835187,
          -0.7273913161766145,
          -0.4864652742428452,
          -0.8348372810488162,
          -0.690818358434077,
          -0.6162005496803455,
          -0.5829864703268006,
          -0.9150195643547865,
          -1.1951370083062798,
          -0.9800902605198986,
          -1.0595208910133689,
          -0.7353902483454577,
          -1.0297778770357569,
          -0.9623647165833314,
          -0.9001233762288536,
          -0.6536777345376217,
          -0.4490239892213899,
          -0.29278565998911343,
          -0.005355868228851539,
          -0.0028249298034783987,
          -0.1371441655273593,
          -0.2445250619471357,
          -0.3384794197698971,
          -0.03456935962810534,
          0.4785604561983884,
          0.1338547201256264,
          -0.003879487480717207,
          -0.5346495851337035,
          -0.8030816325254952,
          -0.7161591550441517,
          -0.4340133703687779,
          -0.8874933652391148,
          -0.8583561609909804,
          -0.919130095556279,
          -0.9959131131579584,
          -0.9574800951719508,
          -0.4466815249340765,
          -0.7880351138370624,
          -0.39865203208519573,
          -0.16699712275217282,
          -1.1407869006131826,
          -1.3102251507288547,
          -1.4651621109126236,
          -1.1458981397381827,
          -0.7542623432885548,
          -0.7654900169415398,
          -0.6518064555954576,
          -0.513540481671017,
          -0.6100975775907933,
          -0.8132816733781072,
          -0.42802034152642715,
          -0.13738648941915035,
          -0.3937449732764271,
          -0.7037063994937786,
          -0.7448879986598235,
          -0.6828261574844502,
          -1.0412321684023613,
          -0.5593957907129946,
          -0.1087541266122473,
          -0.3051733470870612,
          -0.4787602719797855,
          -0.4724127322587034,
          -0.5719899018669126,
          -0.5895202404462037,
          -0.7767827590469504,
          -0.6227432947587037,
          -0.42346330611691224,
          -0.24136138891541925,
          -0.46053886156094215,
          -0.4456763295310914,
          -0.9514489227540404,
          -0.6201719690180321,
          -0.2278204195917252,
          0.23450888480846246,
          0.3489642926246941,
          0.07836703638495462,
          0.6249824240733888,
          1.739468145995966,
          -0.04310230185478446,
          -0.1307158511756802,
          0.42645633198383603,
          0.6981530206955904,
          0.053977585424133674,
          -0.741390008407025,
          -0.9322268044116896,
          -0.46725886207866607,
          0.0355497509493202,
          0.1715158916414847,
          0.9415359576433522,
          1.0139885575491359,
          0.6870195841116352,
          -0.18846522457306839,
          0.020794918426932103,
          1.314865081564062,
          0.9809203212786135,
          0.7259215437030532,
          0.3901346730920449,
          0.2736868243877536,
          -0.3617986068753076,
          -0.5626963318687782,
          -0.3379925282465762,
          -0.33430830759545677,
          -0.03699932976523221,
          -0.08109330311224724,
          -0.1766407161495609,
          -0.3673900063044121,
          0.8541063949810386,
          2.1777669977935417,
          2.1331345269092132,
          1.0974489446135018,
          0.5914654398551051,
          -0.1455155584928444,
          -0.5665555642195245,
          0.1800331276899922,
          0.5449661775080901,
          0.8866159400565983,
          1.1801958224409275,
          0.6540545598690978,
          0.47967559484857497,
          -0.0033522086420978026,
          0.31410555204260443,
          0.0005967732982007139,
          -0.49695027004228554,
          -0.15278527524657576,
          0.8445301137758147,
          -0.5106864447232558,
          -1.2406243440310933,
          -0.7062283629601964,
          -0.32994423380347915,
          -0.41615768952736,
          -0.19602887123258333,
          0.12764404852861147,
          0.03297169398943213,
          -0.5391325771318378,
          0.2509397909157386,
          1.4334938452944728,
          0.8236902590817847,
          -0.661111244292286,
          -0.8733802422820253,
          -0.9620057182251225,
          -1.0265401605926598,
          0.03231203450622318,
          0.24070609396704457,
          0.6377066721321575,
          1.341426472592047,
          1.444822487235704,
          0.8519972796265609,
          -0.006419400865045571,
          0.06525462135137251,
          -0.4919130743286661,
          -0.6165976916141142,
          -0.652748826285756,
          -0.6523651467904202,
          -0.7227557498762412,
          -0.8080739534443385,
          -0.28817701856560596,
          -0.018181084575866494,
          -0.7867023324322115,
          -0.599924461615047,
          -0.09369190174564279,
          -0.5815661830721365,
          -1.2635486329424739,
          -0.8892636758930327,
          -0.27765836667008353,
          0.45218753930846295,
          0.554553677412008,
          -0.0774382510777323,
          0.23481403341294008,
          -0.424055653407957,
          -0.33910542315702397,
          0.544712634917605,
          0.8739926602860759,
          0.8166404288224564,
          0.8928400740920461,
          0.7325989131657398,
          -0.4997527009760542,
          -0.14284326446392648,
          1.030778462014621,
          0.2776358063280521,
          -0.03283494881000832,
          -0.14567486401429963,
          -0.6075890765628081,
          -1.0940430706346376,
          -0.48487446276803176,
          0.14226650040641,
          -0.09300756112530696,
          0.32013223698103727,
          0.4529840669157391,
          0.4156617001004405,
          0.5594517612618214,
          0.8350907006946579,
          1.3863618483411144,
          0.7423861059064114,
          1.2789248584278678,
          1.4938392255696595,
          1.387187544564995,
          0.41288843778327633,
          1.120032185084584,
          1.4049893756526817,
          1.7493406008467123,
          1.4843818625705922,
          1.0184648183280538,
          0.22368508430846243,
          -0.797822306577734,
          -0.8283528732036669,
          -0.3395227587484419,
          0.02823515940081272,
          -0.8105398234172863,
          -1.2528437506486305,
          -1.340704111340795,
          -1.7591974724639303,
          -1.254214675629041,
          -1.0644750683566526,
          -1.0861473504937795,
          -1.0311106584406078,
          -0.7707538303687788,
          -1.1666056137876228,
          -1.6458796406952734
         ],
         "yaxis": "y"
        }
       ],
       "layout": {
        "legend": {
         "title": {
          "text": "variable"
         },
         "tracegroupgap": 0
        },
        "margin": {
         "t": 60
        },
        "template": {
         "data": {
          "bar": [
           {
            "error_x": {
             "color": "#2a3f5f"
            },
            "error_y": {
             "color": "#2a3f5f"
            },
            "marker": {
             "line": {
              "color": "#E5ECF6",
              "width": 0.5
             },
             "pattern": {
              "fillmode": "overlay",
              "size": 10,
              "solidity": 0.2
             }
            },
            "type": "bar"
           }
          ],
          "barpolar": [
           {
            "marker": {
             "line": {
              "color": "#E5ECF6",
              "width": 0.5
             },
             "pattern": {
              "fillmode": "overlay",
              "size": 10,
              "solidity": 0.2
             }
            },
            "type": "barpolar"
           }
          ],
          "carpet": [
           {
            "aaxis": {
             "endlinecolor": "#2a3f5f",
             "gridcolor": "white",
             "linecolor": "white",
             "minorgridcolor": "white",
             "startlinecolor": "#2a3f5f"
            },
            "baxis": {
             "endlinecolor": "#2a3f5f",
             "gridcolor": "white",
             "linecolor": "white",
             "minorgridcolor": "white",
             "startlinecolor": "#2a3f5f"
            },
            "type": "carpet"
           }
          ],
          "choropleth": [
           {
            "colorbar": {
             "outlinewidth": 0,
             "ticks": ""
            },
            "type": "choropleth"
           }
          ],
          "contour": [
           {
            "colorbar": {
             "outlinewidth": 0,
             "ticks": ""
            },
            "colorscale": [
             [
              0,
              "#0d0887"
             ],
             [
              0.1111111111111111,
              "#46039f"
             ],
             [
              0.2222222222222222,
              "#7201a8"
             ],
             [
              0.3333333333333333,
              "#9c179e"
             ],
             [
              0.4444444444444444,
              "#bd3786"
             ],
             [
              0.5555555555555556,
              "#d8576b"
             ],
             [
              0.6666666666666666,
              "#ed7953"
             ],
             [
              0.7777777777777778,
              "#fb9f3a"
             ],
             [
              0.8888888888888888,
              "#fdca26"
             ],
             [
              1,
              "#f0f921"
             ]
            ],
            "type": "contour"
           }
          ],
          "contourcarpet": [
           {
            "colorbar": {
             "outlinewidth": 0,
             "ticks": ""
            },
            "type": "contourcarpet"
           }
          ],
          "heatmap": [
           {
            "colorbar": {
             "outlinewidth": 0,
             "ticks": ""
            },
            "colorscale": [
             [
              0,
              "#0d0887"
             ],
             [
              0.1111111111111111,
              "#46039f"
             ],
             [
              0.2222222222222222,
              "#7201a8"
             ],
             [
              0.3333333333333333,
              "#9c179e"
             ],
             [
              0.4444444444444444,
              "#bd3786"
             ],
             [
              0.5555555555555556,
              "#d8576b"
             ],
             [
              0.6666666666666666,
              "#ed7953"
             ],
             [
              0.7777777777777778,
              "#fb9f3a"
             ],
             [
              0.8888888888888888,
              "#fdca26"
             ],
             [
              1,
              "#f0f921"
             ]
            ],
            "type": "heatmap"
           }
          ],
          "heatmapgl": [
           {
            "colorbar": {
             "outlinewidth": 0,
             "ticks": ""
            },
            "colorscale": [
             [
              0,
              "#0d0887"
             ],
             [
              0.1111111111111111,
              "#46039f"
             ],
             [
              0.2222222222222222,
              "#7201a8"
             ],
             [
              0.3333333333333333,
              "#9c179e"
             ],
             [
              0.4444444444444444,
              "#bd3786"
             ],
             [
              0.5555555555555556,
              "#d8576b"
             ],
             [
              0.6666666666666666,
              "#ed7953"
             ],
             [
              0.7777777777777778,
              "#fb9f3a"
             ],
             [
              0.8888888888888888,
              "#fdca26"
             ],
             [
              1,
              "#f0f921"
             ]
            ],
            "type": "heatmapgl"
           }
          ],
          "histogram": [
           {
            "marker": {
             "pattern": {
              "fillmode": "overlay",
              "size": 10,
              "solidity": 0.2
             }
            },
            "type": "histogram"
           }
          ],
          "histogram2d": [
           {
            "colorbar": {
             "outlinewidth": 0,
             "ticks": ""
            },
            "colorscale": [
             [
              0,
              "#0d0887"
             ],
             [
              0.1111111111111111,
              "#46039f"
             ],
             [
              0.2222222222222222,
              "#7201a8"
             ],
             [
              0.3333333333333333,
              "#9c179e"
             ],
             [
              0.4444444444444444,
              "#bd3786"
             ],
             [
              0.5555555555555556,
              "#d8576b"
             ],
             [
              0.6666666666666666,
              "#ed7953"
             ],
             [
              0.7777777777777778,
              "#fb9f3a"
             ],
             [
              0.8888888888888888,
              "#fdca26"
             ],
             [
              1,
              "#f0f921"
             ]
            ],
            "type": "histogram2d"
           }
          ],
          "histogram2dcontour": [
           {
            "colorbar": {
             "outlinewidth": 0,
             "ticks": ""
            },
            "colorscale": [
             [
              0,
              "#0d0887"
             ],
             [
              0.1111111111111111,
              "#46039f"
             ],
             [
              0.2222222222222222,
              "#7201a8"
             ],
             [
              0.3333333333333333,
              "#9c179e"
             ],
             [
              0.4444444444444444,
              "#bd3786"
             ],
             [
              0.5555555555555556,
              "#d8576b"
             ],
             [
              0.6666666666666666,
              "#ed7953"
             ],
             [
              0.7777777777777778,
              "#fb9f3a"
             ],
             [
              0.8888888888888888,
              "#fdca26"
             ],
             [
              1,
              "#f0f921"
             ]
            ],
            "type": "histogram2dcontour"
           }
          ],
          "mesh3d": [
           {
            "colorbar": {
             "outlinewidth": 0,
             "ticks": ""
            },
            "type": "mesh3d"
           }
          ],
          "parcoords": [
           {
            "line": {
             "colorbar": {
              "outlinewidth": 0,
              "ticks": ""
             }
            },
            "type": "parcoords"
           }
          ],
          "pie": [
           {
            "automargin": true,
            "type": "pie"
           }
          ],
          "scatter": [
           {
            "fillpattern": {
             "fillmode": "overlay",
             "size": 10,
             "solidity": 0.2
            },
            "type": "scatter"
           }
          ],
          "scatter3d": [
           {
            "line": {
             "colorbar": {
              "outlinewidth": 0,
              "ticks": ""
             }
            },
            "marker": {
             "colorbar": {
              "outlinewidth": 0,
              "ticks": ""
             }
            },
            "type": "scatter3d"
           }
          ],
          "scattercarpet": [
           {
            "marker": {
             "colorbar": {
              "outlinewidth": 0,
              "ticks": ""
             }
            },
            "type": "scattercarpet"
           }
          ],
          "scattergeo": [
           {
            "marker": {
             "colorbar": {
              "outlinewidth": 0,
              "ticks": ""
             }
            },
            "type": "scattergeo"
           }
          ],
          "scattergl": [
           {
            "marker": {
             "colorbar": {
              "outlinewidth": 0,
              "ticks": ""
             }
            },
            "type": "scattergl"
           }
          ],
          "scattermapbox": [
           {
            "marker": {
             "colorbar": {
              "outlinewidth": 0,
              "ticks": ""
             }
            },
            "type": "scattermapbox"
           }
          ],
          "scatterpolar": [
           {
            "marker": {
             "colorbar": {
              "outlinewidth": 0,
              "ticks": ""
             }
            },
            "type": "scatterpolar"
           }
          ],
          "scatterpolargl": [
           {
            "marker": {
             "colorbar": {
              "outlinewidth": 0,
              "ticks": ""
             }
            },
            "type": "scatterpolargl"
           }
          ],
          "scatterternary": [
           {
            "marker": {
             "colorbar": {
              "outlinewidth": 0,
              "ticks": ""
             }
            },
            "type": "scatterternary"
           }
          ],
          "surface": [
           {
            "colorbar": {
             "outlinewidth": 0,
             "ticks": ""
            },
            "colorscale": [
             [
              0,
              "#0d0887"
             ],
             [
              0.1111111111111111,
              "#46039f"
             ],
             [
              0.2222222222222222,
              "#7201a8"
             ],
             [
              0.3333333333333333,
              "#9c179e"
             ],
             [
              0.4444444444444444,
              "#bd3786"
             ],
             [
              0.5555555555555556,
              "#d8576b"
             ],
             [
              0.6666666666666666,
              "#ed7953"
             ],
             [
              0.7777777777777778,
              "#fb9f3a"
             ],
             [
              0.8888888888888888,
              "#fdca26"
             ],
             [
              1,
              "#f0f921"
             ]
            ],
            "type": "surface"
           }
          ],
          "table": [
           {
            "cells": {
             "fill": {
              "color": "#EBF0F8"
             },
             "line": {
              "color": "white"
             }
            },
            "header": {
             "fill": {
              "color": "#C8D4E3"
             },
             "line": {
              "color": "white"
             }
            },
            "type": "table"
           }
          ]
         },
         "layout": {
          "annotationdefaults": {
           "arrowcolor": "#2a3f5f",
           "arrowhead": 0,
           "arrowwidth": 1
          },
          "autotypenumbers": "strict",
          "coloraxis": {
           "colorbar": {
            "outlinewidth": 0,
            "ticks": ""
           }
          },
          "colorscale": {
           "diverging": [
            [
             0,
             "#8e0152"
            ],
            [
             0.1,
             "#c51b7d"
            ],
            [
             0.2,
             "#de77ae"
            ],
            [
             0.3,
             "#f1b6da"
            ],
            [
             0.4,
             "#fde0ef"
            ],
            [
             0.5,
             "#f7f7f7"
            ],
            [
             0.6,
             "#e6f5d0"
            ],
            [
             0.7,
             "#b8e186"
            ],
            [
             0.8,
             "#7fbc41"
            ],
            [
             0.9,
             "#4d9221"
            ],
            [
             1,
             "#276419"
            ]
           ],
           "sequential": [
            [
             0,
             "#0d0887"
            ],
            [
             0.1111111111111111,
             "#46039f"
            ],
            [
             0.2222222222222222,
             "#7201a8"
            ],
            [
             0.3333333333333333,
             "#9c179e"
            ],
            [
             0.4444444444444444,
             "#bd3786"
            ],
            [
             0.5555555555555556,
             "#d8576b"
            ],
            [
             0.6666666666666666,
             "#ed7953"
            ],
            [
             0.7777777777777778,
             "#fb9f3a"
            ],
            [
             0.8888888888888888,
             "#fdca26"
            ],
            [
             1,
             "#f0f921"
            ]
           ],
           "sequentialminus": [
            [
             0,
             "#0d0887"
            ],
            [
             0.1111111111111111,
             "#46039f"
            ],
            [
             0.2222222222222222,
             "#7201a8"
            ],
            [
             0.3333333333333333,
             "#9c179e"
            ],
            [
             0.4444444444444444,
             "#bd3786"
            ],
            [
             0.5555555555555556,
             "#d8576b"
            ],
            [
             0.6666666666666666,
             "#ed7953"
            ],
            [
             0.7777777777777778,
             "#fb9f3a"
            ],
            [
             0.8888888888888888,
             "#fdca26"
            ],
            [
             1,
             "#f0f921"
            ]
           ]
          },
          "colorway": [
           "#636efa",
           "#EF553B",
           "#00cc96",
           "#ab63fa",
           "#FFA15A",
           "#19d3f3",
           "#FF6692",
           "#B6E880",
           "#FF97FF",
           "#FECB52"
          ],
          "font": {
           "color": "#2a3f5f"
          },
          "geo": {
           "bgcolor": "white",
           "lakecolor": "white",
           "landcolor": "#E5ECF6",
           "showlakes": true,
           "showland": true,
           "subunitcolor": "white"
          },
          "hoverlabel": {
           "align": "left"
          },
          "hovermode": "closest",
          "mapbox": {
           "style": "light"
          },
          "paper_bgcolor": "white",
          "plot_bgcolor": "#E5ECF6",
          "polar": {
           "angularaxis": {
            "gridcolor": "white",
            "linecolor": "white",
            "ticks": ""
           },
           "bgcolor": "#E5ECF6",
           "radialaxis": {
            "gridcolor": "white",
            "linecolor": "white",
            "ticks": ""
           }
          },
          "scene": {
           "xaxis": {
            "backgroundcolor": "#E5ECF6",
            "gridcolor": "white",
            "gridwidth": 2,
            "linecolor": "white",
            "showbackground": true,
            "ticks": "",
            "zerolinecolor": "white"
           },
           "yaxis": {
            "backgroundcolor": "#E5ECF6",
            "gridcolor": "white",
            "gridwidth": 2,
            "linecolor": "white",
            "showbackground": true,
            "ticks": "",
            "zerolinecolor": "white"
           },
           "zaxis": {
            "backgroundcolor": "#E5ECF6",
            "gridcolor": "white",
            "gridwidth": 2,
            "linecolor": "white",
            "showbackground": true,
            "ticks": "",
            "zerolinecolor": "white"
           }
          },
          "shapedefaults": {
           "line": {
            "color": "#2a3f5f"
           }
          },
          "ternary": {
           "aaxis": {
            "gridcolor": "white",
            "linecolor": "white",
            "ticks": ""
           },
           "baxis": {
            "gridcolor": "white",
            "linecolor": "white",
            "ticks": ""
           },
           "bgcolor": "#E5ECF6",
           "caxis": {
            "gridcolor": "white",
            "linecolor": "white",
            "ticks": ""
           }
          },
          "title": {
           "x": 0.05
          },
          "xaxis": {
           "automargin": true,
           "gridcolor": "white",
           "linecolor": "white",
           "ticks": "",
           "title": {
            "standoff": 15
           },
           "zerolinecolor": "white",
           "zerolinewidth": 2
          },
          "yaxis": {
           "automargin": true,
           "gridcolor": "white",
           "linecolor": "white",
           "ticks": "",
           "title": {
            "standoff": 15
           },
           "zerolinecolor": "white",
           "zerolinewidth": 2
          }
         }
        },
        "xaxis": {
         "anchor": "y",
         "domain": [
          0,
          1
         ],
         "title": {
          "text": "date"
         }
        },
        "yaxis": {
         "anchor": "x",
         "domain": [
          0,
          1
         ],
         "tickfont": {
          "color": "rgba(0,0,0,0)"
         },
         "title": {}
        }
       }
      }
     },
     "metadata": {},
     "output_type": "display_data"
    }
   ],
   "source": [
    "# Visualizamos las prec diarias junto con la audiencia diaria en el periodo de 2022\n",
    "# ===============================================================================\n",
    "\n",
    "df = px.data.stocks()\n",
    "fig = px.line(df_merged, x='date', y=['Precipitaciones Medias Diarias','Audiencia Diaria'])\n",
    "fig.update_yaxes(title_text=None)\n",
    "fig.update_layout(yaxis=dict(tickfont=dict(color='rgba(0,0,0,0)')))\n",
    "fig.show()"
   ]
  },
  {
   "cell_type": "code",
   "execution_count": 52,
   "metadata": {},
   "outputs": [
    {
     "data": {
      "text/html": [
       "<div>\n",
       "<style scoped>\n",
       "    .dataframe tbody tr th:only-of-type {\n",
       "        vertical-align: middle;\n",
       "    }\n",
       "\n",
       "    .dataframe tbody tr th {\n",
       "        vertical-align: top;\n",
       "    }\n",
       "\n",
       "    .dataframe thead th {\n",
       "        text-align: right;\n",
       "    }\n",
       "</style>\n",
       "<table border=\"1\" class=\"dataframe\">\n",
       "  <thead>\n",
       "    <tr style=\"text-align: right;\">\n",
       "      <th></th>\n",
       "      <th>ga:sessions</th>\n",
       "      <th>media</th>\n",
       "    </tr>\n",
       "  </thead>\n",
       "  <tbody>\n",
       "    <tr>\n",
       "      <th>ga:sessions</th>\n",
       "      <td>1.000000</td>\n",
       "      <td>0.639519</td>\n",
       "    </tr>\n",
       "    <tr>\n",
       "      <th>media</th>\n",
       "      <td>0.639519</td>\n",
       "      <td>1.000000</td>\n",
       "    </tr>\n",
       "  </tbody>\n",
       "</table>\n",
       "</div>"
      ],
      "text/plain": [
       "             ga:sessions     media\n",
       "ga:sessions     1.000000  0.639519\n",
       "media           0.639519  1.000000"
      ]
     },
     "execution_count": 52,
     "metadata": {},
     "output_type": "execute_result"
    }
   ],
   "source": [
    "# juntamos las variables de nuestra hipótesis para ver si existe correlación entre ellas\n",
    "# ===============================================================================\n",
    "\n",
    "df2 = df_merged[['ga:sessions','media']]\n",
    "\n",
    "df2.corr()"
   ]
  }
 ],
 "metadata": {
  "kernelspec": {
   "display_name": "base",
   "language": "python",
   "name": "python3"
  },
  "language_info": {
   "codemirror_mode": {
    "name": "ipython",
    "version": 3
   },
   "file_extension": ".py",
   "mimetype": "text/x-python",
   "name": "python",
   "nbconvert_exporter": "python",
   "pygments_lexer": "ipython3",
   "version": "3.11.2"
  },
  "orig_nbformat": 4,
  "vscode": {
   "interpreter": {
    "hash": "dfcab84035fd59fbc6928da49eb83f293bd1370c482f3afa29779f5c7dafe784"
   }
  }
 },
 "nbformat": 4,
 "nbformat_minor": 2
}
